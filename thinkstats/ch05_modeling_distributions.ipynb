{
 "cells": [
  {
   "cell_type": "code",
   "execution_count": 24,
   "metadata": {},
   "outputs": [
    {
     "data": {
      "text/plain": [
       "<module 'utils' from '/home/taot/github/playground/thinkstats/utils.py'>"
      ]
     },
     "execution_count": 24,
     "metadata": {},
     "output_type": "execute_result"
    }
   ],
   "source": [
    "import pandas as pd\n",
    "import numpy as np\n",
    "from importlib import reload\n",
    "from matplotlib import pyplot as plt; reload(plt)\n",
    "import random\n",
    "\n",
    "import analytic; reload(analytic)\n",
    "import nsfg; reload(nsfg)\n",
    "import utils; reload(utils)"
   ]
  },
  {
   "cell_type": "code",
   "execution_count": 49,
   "metadata": {
    "collapsed": true
   },
   "outputs": [],
   "source": [
    "preg = nsfg.ReadFemPreg(prefix='data/')\n",
    "live = preg[preg.outcome == 1]\n",
    "firsts = live[live.pregordr == 1]\n",
    "others = live[live.pregordr != 1]"
   ]
  },
  {
   "cell_type": "code",
   "execution_count": 9,
   "metadata": {
    "collapsed": true
   },
   "outputs": [],
   "source": [
    "df = analytic.ReadBabyBoom()"
   ]
  },
  {
   "cell_type": "code",
   "execution_count": 12,
   "metadata": {},
   "outputs": [
    {
     "data": {
      "text/plain": [
       "0       NaN\n",
       "1      59.0\n",
       "2      14.0\n",
       "3      37.0\n",
       "4      62.0\n",
       "5      68.0\n",
       "6       2.0\n",
       "7      15.0\n",
       "8       9.0\n",
       "9     157.0\n",
       "10     27.0\n",
       "11     37.0\n",
       "12      2.0\n",
       "13     55.0\n",
       "14     86.0\n",
       "15     14.0\n",
       "16      4.0\n",
       "17     40.0\n",
       "18     36.0\n",
       "19     47.0\n",
       "20      9.0\n",
       "21     61.0\n",
       "22      1.0\n",
       "23     26.0\n",
       "24     13.0\n",
       "25     28.0\n",
       "26     77.0\n",
       "27     26.0\n",
       "28     45.0\n",
       "29     25.0\n",
       "30     18.0\n",
       "31     29.0\n",
       "32     15.0\n",
       "33     38.0\n",
       "34      2.0\n",
       "35      2.0\n",
       "36     19.0\n",
       "37     27.0\n",
       "38     14.0\n",
       "39     13.0\n",
       "40     19.0\n",
       "41     54.0\n",
       "42     70.0\n",
       "43     28.0\n",
       "Name: minutes, dtype: float64"
      ]
     },
     "execution_count": 12,
     "metadata": {},
     "output_type": "execute_result"
    }
   ],
   "source": [
    "diffs = df.minutes.diff()\n",
    "diffs"
   ]
  },
  {
   "cell_type": "code",
   "execution_count": 15,
   "metadata": {
    "collapsed": true
   },
   "outputs": [],
   "source": [
    "cdf = utils.Cdf(diffs)"
   ]
  },
  {
   "cell_type": "code",
   "execution_count": 16,
   "metadata": {},
   "outputs": [
    {
     "data": {
      "image/png": "[encoded data removed]",
      "text/plain": [
       "<matplotlib.figure.Figure at 0x7f535e443a90>"
      ]
     },
     "metadata": {},
     "output_type": "display_data"
    }
   ],
   "source": [
    "cdf.show()"
   ]
  },
  {
   "cell_type": "code",
   "execution_count": 34,
   "metadata": {},
   "outputs": [
    {
     "data": {
      "image/png": "[encoded data removed]",
      "text/plain": [
       "<matplotlib.figure.Figure at 0x7f53552c5e48>"
      ]
     },
     "metadata": {},
     "output_type": "display_data"
    }
   ],
   "source": [
    "plt.plot(cdf.xs, 1 - cdf.ps)\n",
    "plt.show()"
   ]
  },
  {
   "cell_type": "code",
   "execution_count": 33,
   "metadata": {},
   "outputs": [
    {
     "data": {
      "image/png": "[encoded data removed]",
      "text/plain": [
       "<matplotlib.figure.Figure at 0x7f53550fdb00>"
      ]
     },
     "metadata": {},
     "output_type": "display_data"
    }
   ],
   "source": [
    "plt.plot(cdf.xs, 1 - cdf.ps)\n",
    "plt.yscale('log')\n",
    "plt.show()"
   ]
  },
  {
   "cell_type": "markdown",
   "metadata": {},
   "source": [
    "   ## 5.2 The normal distribution"
   ]
  },
  {
   "cell_type": "code",
   "execution_count": 35,
   "metadata": {
    "collapsed": true
   },
   "outputs": [],
   "source": [
    "import scipy.stats"
   ]
  },
  {
   "cell_type": "code",
   "execution_count": 41,
   "metadata": {},
   "outputs": [
    {
     "data": {
      "text/plain": [
       "0.9999999990134123"
      ]
     },
     "execution_count": 41,
     "metadata": {},
     "output_type": "execute_result"
    }
   ],
   "source": [
    "scipy.stats.norm.cdf(6)"
   ]
  },
  {
   "cell_type": "code",
   "execution_count": 43,
   "metadata": {
    "collapsed": true
   },
   "outputs": [],
   "source": [
    "xs = [x / 100.0 for x in range(-600, 600)]"
   ]
  },
  {
   "cell_type": "code",
   "execution_count": 46,
   "metadata": {},
   "outputs": [
    {
     "data": {
      "image/png": "[encoded data removed]",
      "text/plain": [
       "<matplotlib.figure.Figure at 0x7f535e9cf0b8>"
      ]
     },
     "metadata": {},
     "output_type": "display_data"
    }
   ],
   "source": [
    "plt.plot(xs, scipy.stats.norm.cdf(xs))\n",
    "plt.show()"
   ]
  },
  {
   "cell_type": "code",
   "execution_count": 50,
   "metadata": {},
   "outputs": [
    {
     "data": {
      "image/png": "[encoded data removed]",
      "text/plain": [
       "<matplotlib.figure.Figure at 0x7f5354c834e0>"
      ]
     },
     "metadata": {},
     "output_type": "display_data"
    }
   ],
   "source": [
    "cdf = utils.Cdf(live.totalwgt_lb)\n",
    "cdf.show()"
   ]
  },
  {
   "cell_type": "code",
   "execution_count": 105,
   "metadata": {},
   "outputs": [
    {
     "data": {
      "image/png": "[encoded data removed]",
      "text/plain": [
       "<matplotlib.figure.Figure at 0x7f53544e6ac8>"
      ]
     },
     "metadata": {},
     "output_type": "display_data"
    }
   ],
   "source": [
    "filtered = [x for x in live.totalwgt_lb if not np.isnan(x)]\n",
    "sample_size = len(filtered)\n",
    "xs = sorted(np.random.normal(size=sample_size))\n",
    "ys = sorted(filtered)\n",
    "plt.plot(xs, ys)\n",
    "plt.show()"
   ]
  },
  {
   "cell_type": "markdown",
   "metadata": {},
   "source": [
    "## 5.4 The lognormal distribution"
   ]
  },
  {
   "cell_type": "code",
   "execution_count": 106,
   "metadata": {
    "collapsed": true
   },
   "outputs": [],
   "source": [
    "import brfss"
   ]
  },
  {
   "cell_type": "code",
   "execution_count": 107,
   "metadata": {
    "collapsed": true
   },
   "outputs": [],
   "source": [
    "df = brfss.ReadBrfss()"
   ]
  },
  {
   "cell_type": "code",
   "execution_count": 110,
   "metadata": {},
   "outputs": [
    {
     "data": {
      "text/html": [
       "<div>\n",
       "<style>\n",
       "    .dataframe thead tr:only-child th {\n",
       "        text-align: right;\n",
       "    }\n",
       "\n",
       "    .dataframe thead th {\n",
       "        text-align: left;\n",
       "    }\n",
       "\n",
       "    .dataframe tbody tr th {\n",
       "        vertical-align: top;\n",
       "    }\n",
       "</style>\n",
       "<table border=\"1\" class=\"dataframe\">\n",
       "  <thead>\n",
       "    <tr style=\"text-align: right;\">\n",
       "      <th></th>\n",
       "      <th>age</th>\n",
       "      <th>sex</th>\n",
       "      <th>wtyrago</th>\n",
       "      <th>finalwt</th>\n",
       "      <th>wtkg2</th>\n",
       "      <th>htm3</th>\n",
       "    </tr>\n",
       "  </thead>\n",
       "  <tbody>\n",
       "    <tr>\n",
       "      <th>0</th>\n",
       "      <td>82.0</td>\n",
       "      <td>2</td>\n",
       "      <td>76.363636</td>\n",
       "      <td>185.870345</td>\n",
       "      <td>70.91</td>\n",
       "      <td>157.0</td>\n",
       "    </tr>\n",
       "    <tr>\n",
       "      <th>1</th>\n",
       "      <td>65.0</td>\n",
       "      <td>2</td>\n",
       "      <td>72.727273</td>\n",
       "      <td>126.603027</td>\n",
       "      <td>72.73</td>\n",
       "      <td>163.0</td>\n",
       "    </tr>\n",
       "    <tr>\n",
       "      <th>2</th>\n",
       "      <td>48.0</td>\n",
       "      <td>2</td>\n",
       "      <td>NaN</td>\n",
       "      <td>181.063210</td>\n",
       "      <td>NaN</td>\n",
       "      <td>165.0</td>\n",
       "    </tr>\n",
       "    <tr>\n",
       "      <th>3</th>\n",
       "      <td>61.0</td>\n",
       "      <td>1</td>\n",
       "      <td>73.636364</td>\n",
       "      <td>517.926275</td>\n",
       "      <td>73.64</td>\n",
       "      <td>170.0</td>\n",
       "    </tr>\n",
       "    <tr>\n",
       "      <th>4</th>\n",
       "      <td>26.0</td>\n",
       "      <td>1</td>\n",
       "      <td>88.636364</td>\n",
       "      <td>1252.624630</td>\n",
       "      <td>88.64</td>\n",
       "      <td>185.0</td>\n",
       "    </tr>\n",
       "    <tr>\n",
       "      <th>5</th>\n",
       "      <td>42.0</td>\n",
       "      <td>1</td>\n",
       "      <td>118.181818</td>\n",
       "      <td>415.161314</td>\n",
       "      <td>109.09</td>\n",
       "      <td>183.0</td>\n",
       "    </tr>\n",
       "    <tr>\n",
       "      <th>6</th>\n",
       "      <td>40.0</td>\n",
       "      <td>2</td>\n",
       "      <td>50.000000</td>\n",
       "      <td>422.810541</td>\n",
       "      <td>50.00</td>\n",
       "      <td>157.0</td>\n",
       "    </tr>\n",
       "    <tr>\n",
       "      <th>7</th>\n",
       "      <td>24.0</td>\n",
       "      <td>2</td>\n",
       "      <td>131.818182</td>\n",
       "      <td>1280.585980</td>\n",
       "      <td>122.73</td>\n",
       "      <td>178.0</td>\n",
       "    </tr>\n",
       "    <tr>\n",
       "      <th>8</th>\n",
       "      <td>37.0</td>\n",
       "      <td>1</td>\n",
       "      <td>87.727273</td>\n",
       "      <td>1245.060440</td>\n",
       "      <td>90.00</td>\n",
       "      <td>178.0</td>\n",
       "    </tr>\n",
       "    <tr>\n",
       "      <th>9</th>\n",
       "      <td>65.0</td>\n",
       "      <td>1</td>\n",
       "      <td>77.272727</td>\n",
       "      <td>382.738158</td>\n",
       "      <td>77.27</td>\n",
       "      <td>173.0</td>\n",
       "    </tr>\n",
       "  </tbody>\n",
       "</table>\n",
       "</div>"
      ],
      "text/plain": [
       "    age  sex     wtyrago      finalwt   wtkg2   htm3\n",
       "0  82.0    2   76.363636   185.870345   70.91  157.0\n",
       "1  65.0    2   72.727273   126.603027   72.73  163.0\n",
       "2  48.0    2         NaN   181.063210     NaN  165.0\n",
       "3  61.0    1   73.636364   517.926275   73.64  170.0\n",
       "4  26.0    1   88.636364  1252.624630   88.64  185.0\n",
       "5  42.0    1  118.181818   415.161314  109.09  183.0\n",
       "6  40.0    2   50.000000   422.810541   50.00  157.0\n",
       "7  24.0    2  131.818182  1280.585980  122.73  178.0\n",
       "8  37.0    1   87.727273  1245.060440   90.00  178.0\n",
       "9  65.0    1   77.272727   382.738158   77.27  173.0"
      ]
     },
     "execution_count": 110,
     "metadata": {},
     "output_type": "execute_result"
    }
   ],
   "source": [
    "df[:10]"
   ]
  },
  {
   "cell_type": "code",
   "execution_count": 113,
   "metadata": {},
   "outputs": [
    {
     "data": {
      "image/png": "[encoded data removed]",
      "text/plain": [
       "<matplotlib.figure.Figure at 0x7f5354dfc550>"
      ]
     },
     "metadata": {},
     "output_type": "display_data"
    }
   ],
   "source": [
    "cdf = utils.Cdf(df.wtkg2)\n",
    "cdf.show()"
   ]
  },
  {
   "cell_type": "code",
   "execution_count": null,
   "metadata": {
    "collapsed": true
   },
   "outputs": [],
   "source": [
    "cdf2 = utils.Cdf(np.log(df.wtkg2))"
   ]
  },
  {
   "cell_type": "markdown",
   "metadata": {},
   "source": [
    "## The Pareto distribution"
   ]
  },
  {
   "cell_type": "code",
   "execution_count": 26,
   "metadata": {},
   "outputs": [
    {
     "data": {
      "text/plain": [
       "<module 'utils' from '/home/taot/github/playground/thinkstats/utils.py'>"
      ]
     },
     "execution_count": 26,
     "metadata": {},
     "output_type": "execute_result"
    }
   ],
   "source": [
    "import populations; reload(populations)\n",
    "import utils; reload(utils)"
   ]
  },
  {
   "cell_type": "code",
   "execution_count": 27,
   "metadata": {},
   "outputs": [],
   "source": [
    "df = populations.ReadData()"
   ]
  },
  {
   "cell_type": "code",
   "execution_count": 30,
   "metadata": {},
   "outputs": [
    {
     "data": {
      "image/png": "[encoded data removed]",
      "text/plain": [
       "<matplotlib.figure.Figure at 0x7fb7a457e390>"
      ]
     },
     "metadata": {},
     "output_type": "display_data"
    }
   ],
   "source": [
    "cdf = utils.Cdf(df)\n",
    "cdf.show()"
   ]
  },
  {
   "cell_type": "code",
   "execution_count": 36,
   "metadata": {},
   "outputs": [
    {
     "data": {
      "image/png": "[encoded data removed]",
      "text/plain": [
       "<matplotlib.figure.Figure at 0x7fb7a4638fd0>"
      ]
     },
     "metadata": {},
     "output_type": "display_data"
    }
   ],
   "source": [
    "ccdf = utils.Cdf(cdf)\n",
    "ccdf.ps = 1 - ccdf.ps\n",
    "plt.plot(ccdf.xs, ccdf.ps)\n",
    "plt.xscale('log')\n",
    "plt.yscale('log')\n",
    "plt.show()"
   ]
  },
  {
   "cell_type": "code",
   "execution_count": 76,
   "metadata": {
    "collapsed": true
   },
   "outputs": [],
   "source": [
    "x_m = 0.5\n",
    "alpha = 1\n",
    "def cdf_pareto(x):\n",
    "    return 1 - np.exp(-alpha * (np.log(x) - np.log(x_m)))"
   ]
  },
  {
   "cell_type": "code",
   "execution_count": 57,
   "metadata": {
    "collapsed": true
   },
   "outputs": [],
   "source": [
    "def cdf_pareto2(x):\n",
    "    return 1 - np.power((x / x_m), -alpha)"
   ]
  },
  {
   "cell_type": "code",
   "execution_count": 77,
   "metadata": {},
   "outputs": [],
   "source": [
    "a = [x / 10 + x_m for x in range(100)]\n",
    "a = np.asarray(a)"
   ]
  },
  {
   "cell_type": "code",
   "execution_count": 78,
   "metadata": {},
   "outputs": [
    {
     "data": {
      "image/png": "[encoded data removed]",
      "text/plain": [
       "<matplotlib.figure.Figure at 0x7fb7a485a358>"
      ]
     },
     "metadata": {},
     "output_type": "display_data"
    }
   ],
   "source": [
    "pareto_a = cdf_pareto(a)\n",
    "plt.plot(a, pareto_a)\n",
    "plt.show()"
   ]
  }
 ],
 "metadata": {
  "kernelspec": {
   "display_name": "Python 3",
   "language": "python",
   "name": "python3"
  },
  "language_info": {
   "codemirror_mode": {
    "name": "ipython",
    "version": 3
   },
   "file_extension": ".py",
   "mimetype": "text/x-python",
   "name": "python",
   "nbconvert_exporter": "python",
   "pygments_lexer": "ipython3",
   "version": "3.6.3"
  }
 },
 "nbformat": 4,
 "nbformat_minor": 2
}
