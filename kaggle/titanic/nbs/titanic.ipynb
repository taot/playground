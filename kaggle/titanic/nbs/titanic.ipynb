{
 "cells": [
  {
   "cell_type": "code",
   "execution_count": 160,
   "metadata": {},
   "outputs": [],
   "source": [
    "import imports; reload(imports)\n",
    "from imports import *\n",
    "import utils"
   ]
  },
  {
   "cell_type": "code",
   "execution_count": 2,
   "metadata": {
    "collapsed": true
   },
   "outputs": [],
   "source": [
    "path = '../data/'"
   ]
  },
  {
   "cell_type": "code",
   "execution_count": 3,
   "metadata": {},
   "outputs": [],
   "source": [
    "train_df = pd.read_csv(path + 'train.csv')\n",
    "valid_df = pd.read_csv(path + 'valid.csv')\n",
    "test_df = pd.read_csv(path + 'test.csv')"
   ]
  },
  {
   "cell_type": "code",
   "execution_count": null,
   "metadata": {},
   "outputs": [],
   "source": [
    "train_df"
   ]
  },
  {
   "cell_type": "markdown",
   "metadata": {},
   "source": [
    "## Convert Functions"
   ]
  },
  {
   "cell_type": "code",
   "execution_count": 4,
   "metadata": {},
   "outputs": [],
   "source": [
    "def sex_to_label(sex):\n",
    "    return 0 if sex == 'male' else 1"
   ]
  },
  {
   "cell_type": "code",
   "execution_count": 5,
   "metadata": {
    "collapsed": true
   },
   "outputs": [],
   "source": [
    "def embarked_to_label(c):\n",
    "    if (c == 'C'):\n",
    "        return 0\n",
    "    if (c == 'Q'):\n",
    "        return 1\n",
    "    return 2"
   ]
  },
  {
   "cell_type": "code",
   "execution_count": 112,
   "metadata": {},
   "outputs": [],
   "source": [
    "def cabin_to_label(s):\n",
    "    if not isinstance(s, str):\n",
    "        return 0\n",
    "    else:\n",
    "        return ord(s[0]) - ord('A')"
   ]
  },
  {
   "cell_type": "code",
   "execution_count": 115,
   "metadata": {
    "collapsed": true
   },
   "outputs": [],
   "source": [
    "def transform_data(df):\n",
    "    df = df.fillna(0)\n",
    "    numerics_df = df[['Pclass', 'Age', 'SibSp', 'Parch', 'Fare']]\n",
    "    sex_df = df['Sex'].apply(sex_to_label)\n",
    "    cabin_df = df['Cabin'].apply(cabin_to_label)\n",
    "    embarked_df = df['Embarked'].apply(embarked_to_label)\n",
    "    data_df = pd.concat([numerics_df, sex_df, cabin_df, embarked_df], axis=1)\n",
    "    return data_df"
   ]
  },
  {
   "cell_type": "markdown",
   "metadata": {},
   "source": [
    "## Prepare Data"
   ]
  },
  {
   "cell_type": "code",
   "execution_count": null,
   "metadata": {},
   "outputs": [],
   "source": [
    "sex_df = train_df['Sex'].apply(sex_to_label)"
   ]
  },
  {
   "cell_type": "code",
   "execution_count": null,
   "metadata": {},
   "outputs": [],
   "source": [
    "embarked_df = train_df['Embarked'].apply(embarked_to_label)"
   ]
  },
  {
   "cell_type": "code",
   "execution_count": 113,
   "metadata": {
    "collapsed": true
   },
   "outputs": [],
   "source": [
    "cabin_df = train_df['Cabin'].apply(cabin_to_label)"
   ]
  },
  {
   "cell_type": "code",
   "execution_count": null,
   "metadata": {},
   "outputs": [],
   "source": [
    "type(train_df['Cabin'][1]) == type('str')\n",
    "isinstance(train_df['Cabin'][0], str)"
   ]
  },
  {
   "cell_type": "code",
   "execution_count": null,
   "metadata": {},
   "outputs": [],
   "source": [
    "train_df['Cabin'].apply(cabin_to_label)"
   ]
  },
  {
   "cell_type": "code",
   "execution_count": null,
   "metadata": {},
   "outputs": [],
   "source": [
    "pd.concat([sex_df, embarked_df], axis=1)"
   ]
  },
  {
   "cell_type": "code",
   "execution_count": null,
   "metadata": {},
   "outputs": [],
   "source": [
    "train_df[['Pclass', 'Age', 'SibSp', 'Parch', 'Fare']]"
   ]
  },
  {
   "cell_type": "code",
   "execution_count": null,
   "metadata": {},
   "outputs": [],
   "source": [
    "transform_data(train_df[:10])"
   ]
  },
  {
   "cell_type": "code",
   "execution_count": 116,
   "metadata": {},
   "outputs": [],
   "source": [
    "train = np.array(transform_data(train_df))\n",
    "train_label = to_categorical(np.array(train_df['Survived']))"
   ]
  },
  {
   "cell_type": "code",
   "execution_count": 117,
   "metadata": {
    "collapsed": true
   },
   "outputs": [],
   "source": [
    "valid = np.array(transform_data(valid_df))\n",
    "valid_label = to_categorical(np.array(valid_df['Survived']))"
   ]
  },
  {
   "cell_type": "code",
   "execution_count": 118,
   "metadata": {},
   "outputs": [],
   "source": [
    "test = np.array(transform_data(test_df))"
   ]
  },
  {
   "cell_type": "code",
   "execution_count": 119,
   "metadata": {},
   "outputs": [
    {
     "data": {
      "text/plain": [
       "(91, 8)"
      ]
     },
     "execution_count": 119,
     "metadata": {},
     "output_type": "execute_result"
    }
   ],
   "source": [
    "train.shape[1]\n",
    "valid.shape"
   ]
  },
  {
   "cell_type": "markdown",
   "metadata": {},
   "source": [
    "## Create Model"
   ]
  },
  {
   "cell_type": "code",
   "execution_count": 321,
   "metadata": {
    "collapsed": true
   },
   "outputs": [],
   "source": [
    "model = Sequential([\n",
    "#     Dense(input_dim=train.shape[1], output_dim=2, activation='softmax')\n",
    "    Dense(input_dim=train.shape[1], output_dim=8, activation='relu'),\n",
    "    Dropout(0.5),\n",
    "    Dense(output_dim=2, activation='softmax')\n",
    "])\n",
    "model.compile(optimizer=Adam(lr=1E-3), metrics=['accuracy'], loss='categorical_crossentropy')"
   ]
  },
  {
   "cell_type": "code",
   "execution_count": 235,
   "metadata": {},
   "outputs": [
    {
     "data": {
      "text/plain": [
       "array(9.999999747378752e-05, dtype=float32)"
      ]
     },
     "execution_count": 235,
     "metadata": {},
     "output_type": "execute_result"
    }
   ],
   "source": [
    "model.optimizer.lr.get_value()"
   ]
  },
  {
   "cell_type": "code",
   "execution_count": 269,
   "metadata": {},
   "outputs": [
    {
     "name": "stdout",
     "output_type": "stream",
     "text": [
      "____________________________________________________________________________________________________\n",
      "Layer (type)                     Output Shape          Param #     Connected to                     \n",
      "====================================================================================================\n",
      "dense_11 (Dense)                 (None, 14)            126         dense_input_6[0][0]              \n",
      "____________________________________________________________________________________________________\n",
      "dropout_6 (Dropout)              (None, 14)            0           dense_11[0][0]                   \n",
      "____________________________________________________________________________________________________\n",
      "dense_12 (Dense)                 (None, 2)             30          dropout_6[0][0]                  \n",
      "====================================================================================================\n",
      "Total params: 156\n",
      "____________________________________________________________________________________________________\n"
     ]
    }
   ],
   "source": [
    "model.summary()"
   ]
  },
  {
   "cell_type": "code",
   "execution_count": 297,
   "metadata": {
    "collapsed": true
   },
   "outputs": [],
   "source": [
    "model.optimizer.lr = 1E-5"
   ]
  },
  {
   "cell_type": "code",
   "execution_count": 360,
   "metadata": {},
   "outputs": [
    {
     "name": "stdout",
     "output_type": "stream",
     "text": [
      "Train on 800 samples, validate on 91 samples\n",
      "Epoch 1/10\n",
      "800/800 [==============================] - 0s - loss: 0.5284 - acc: 0.7188 - val_loss: 0.3968 - val_acc: 0.8022\n",
      "Epoch 2/10\n",
      "800/800 [==============================] - 0s - loss: 0.5169 - acc: 0.7200 - val_loss: 0.4099 - val_acc: 0.7912\n",
      "Epoch 3/10\n",
      "800/800 [==============================] - 0s - loss: 0.5086 - acc: 0.7262 - val_loss: 0.4074 - val_acc: 0.7912\n",
      "Epoch 4/10\n",
      "800/800 [==============================] - 0s - loss: 0.5071 - acc: 0.7200 - val_loss: 0.4101 - val_acc: 0.7912\n",
      "Epoch 5/10\n",
      "800/800 [==============================] - 0s - loss: 0.5124 - acc: 0.7212 - val_loss: 0.4041 - val_acc: 0.7912\n",
      "Epoch 6/10\n",
      "800/800 [==============================] - 0s - loss: 0.5201 - acc: 0.7212 - val_loss: 0.4193 - val_acc: 0.7802\n",
      "Epoch 7/10\n",
      "800/800 [==============================] - 0s - loss: 0.5221 - acc: 0.7163 - val_loss: 0.4200 - val_acc: 0.7912\n",
      "Epoch 8/10\n",
      "800/800 [==============================] - 0s - loss: 0.5222 - acc: 0.7113 - val_loss: 0.4267 - val_acc: 0.7802\n",
      "Epoch 9/10\n",
      "800/800 [==============================] - 0s - loss: 0.4921 - acc: 0.7262 - val_loss: 0.4090 - val_acc: 0.7912\n",
      "Epoch 10/10\n",
      "800/800 [==============================] - 0s - loss: 0.4979 - acc: 0.7100 - val_loss: 0.4142 - val_acc: 0.7912\n"
     ]
    },
    {
     "data": {
      "text/plain": [
       "<keras.callbacks.History at 0x7feb04b09f50>"
      ]
     },
     "execution_count": 360,
     "metadata": {},
     "output_type": "execute_result"
    }
   ],
   "source": [
    "model.fit(train, train_label, validation_data=(valid, valid_label), batch_size=16, nb_epoch=10)"
   ]
  },
  {
   "cell_type": "code",
   "execution_count": 316,
   "metadata": {},
   "outputs": [],
   "source": [
    "pred = model.predict(test, batch_size=16)"
   ]
  },
  {
   "cell_type": "code",
   "execution_count": 317,
   "metadata": {},
   "outputs": [
    {
     "data": {
      "text/plain": [
       "array([[ 0.85069931,  0.14930066],\n",
       "       [ 0.61502182,  0.38497815],\n",
       "       [ 0.85175037,  0.14824966],\n",
       "       [ 0.86343932,  0.13656068],\n",
       "       [ 0.56466502,  0.43533498],\n",
       "       [ 0.84470129,  0.15529868],\n",
       "       [ 0.44521356,  0.55478644],\n",
       "       [ 0.73705238,  0.26294765],\n",
       "       [ 0.32059988,  0.67940015],\n",
       "       [ 0.89771992,  0.10228006]], dtype=float32)"
      ]
     },
     "execution_count": 317,
     "metadata": {},
     "output_type": "execute_result"
    }
   ],
   "source": [
    "pred[:10]"
   ]
  },
  {
   "cell_type": "code",
   "execution_count": 318,
   "metadata": {},
   "outputs": [],
   "source": [
    "res = np.argmax(pred, axis=1)"
   ]
  },
  {
   "cell_type": "code",
   "execution_count": 319,
   "metadata": {},
   "outputs": [
    {
     "data": {
      "text/plain": [
       "array([0, 0, 0, 0, 0, 0, 1, 0, 1, 0])"
      ]
     },
     "execution_count": 319,
     "metadata": {},
     "output_type": "execute_result"
    }
   ],
   "source": [
    "res[:10]"
   ]
  },
  {
   "cell_type": "markdown",
   "metadata": {},
   "source": [
    "## Submit"
   ]
  },
  {
   "cell_type": "code",
   "execution_count": 320,
   "metadata": {},
   "outputs": [],
   "source": [
    "res_df = pd.concat([test_df['PassengerId'], pd.DataFrame(res)], axis=1)\n",
    "res_df.columns = ['PassengerId', 'Survived']\n",
    "res_df.to_csv(path + '../result/result.csv', index=False)"
   ]
  }
 ],
 "metadata": {
  "kernelspec": {
   "display_name": "Python 2",
   "language": "python",
   "name": "python2"
  },
  "language_info": {
   "codemirror_mode": {
    "name": "ipython",
    "version": 2
   },
   "file_extension": ".py",
   "mimetype": "text/x-python",
   "name": "python",
   "nbconvert_exporter": "python",
   "pygments_lexer": "ipython2",
   "version": "2.7.13"
  }
 },
 "nbformat": 4,
 "nbformat_minor": 2
}
