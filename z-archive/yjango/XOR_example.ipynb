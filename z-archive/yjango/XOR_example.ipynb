{
 "cells": [
  {
   "cell_type": "code",
   "execution_count": 1,
   "metadata": {},
   "outputs": [],
   "source": [
    "import tensorflow as tf\n",
    "import numpy as np\n",
    "\n",
    "# 网络结构: 2维输入 --> 2维隐藏层 --> 1维输出\n",
    "# 学习速率 (learning rate): 0.0001\n",
    "D_input = 2\n",
    "D_label = 1\n",
    "D_hidden = 2\n",
    "lr = 1e-4\n",
    "\n",
    "# 容器\n",
    "x = tf.placeholder(tf.float32, [None, D_input], name=\"x\")\n",
    "t = tf.placeholder(tf.float32, [None, D_label], name=\"t\")\n",
    "\n",
    "# 隐藏层\n",
    "# 初始化 W\n",
    "W_h1 = tf.Variable(tf.truncated_normal([D_input, D_hidden], stddev=0.1), name=\"W_h\")\n",
    "# 初始化 b\n",
    "b_h1 = tf.Variable(tf.constant(0.1, shape=[D_hidden]), name=\"b_h\")\n",
    "# 计算 Wx+b\n",
    "pre_act_h1 = tf.matmul(x, W_h1) + b_h1\n",
    "# 计算 a(Wx+b)\n",
    "act_h1 = tf.nn.relu(pre_act_h1, name=\"act_h\")\n",
    "\n",
    "# 输出层\n",
    "W_o = tf.Variable(tf.truncated_normal([D_hidden, D_label], stddev=0.1), name=\"W_o\")\n",
    "b_o = tf.Variable(tf.constant(0.1, shape=[D_label]), name=\"b_o\")\n",
    "pre_act_o = tf.matmul(act_h1, W_o) + b_o\n",
    "y = tf.nn.relu(pre_act_o, name=\"act_y\")\n",
    "\n",
    "# 反向传递\n",
    "# 损失函数\n",
    "loss = tf.reduce_mean((y - t)**2)\n",
    "train_step = tf.train.AdamOptimizer(lr).minimize(loss)"
   ]
  },
  {
   "cell_type": "code",
   "execution_count": 20,
   "metadata": {
    "collapsed": true
   },
   "outputs": [],
   "source": [
    "# 准备数据\n",
    "# X 和 Y 是 4 个数据的矩阵, X[i] 和 Y[i] 的值始终对应\n",
    "X = [ [0, 0], [0, 1], [1, 0], [1, 1] ]\n",
    "Y = [ [0], [1], [1], [0] ]\n",
    "X = np.array(X).astype('int16')\n",
    "Y = np.array(Y).astype('int16')"
   ]
  },
  {
   "cell_type": "code",
   "execution_count": 32,
   "metadata": {},
   "outputs": [
    {
     "data": {
      "text/plain": [
       "array([0, 0], dtype=int16)"
      ]
     },
     "execution_count": 32,
     "metadata": {},
     "output_type": "execute_result"
    }
   ],
   "source": [
    "X[0]"
   ]
  },
  {
   "cell_type": "code",
   "execution_count": 37,
   "metadata": {},
   "outputs": [
    {
     "name": "stdout",
     "output_type": "stream",
     "text": [
      "WARNING:tensorflow:From <ipython-input-37-f0d8048dd45c>:4: initialize_all_variables (from tensorflow.python.ops.variables) is deprecated and will be removed after 2017-03-02.\n",
      "Instructions for updating:\n",
      "Use `tf.global_variables_initializer` instead.\n",
      "0\n",
      "10000\n",
      "20000\n",
      "30000\n",
      "40000\n",
      "50000\n",
      "60000\n",
      "70000\n",
      "80000\n",
      "90000\n"
     ]
    }
   ],
   "source": [
    "# 创建 session\n",
    "sess = tf.InteractiveSession()\n",
    "# 初始化权重\n",
    "tf.initialize_all_variables().run()\n",
    "\n",
    "# 训练次数\n",
    "T = 100000\n",
    "for i in range(T):\n",
    "    if i % 10000 == 0:\n",
    "        print(i)\n",
    "    #for j in range(X.shape[0]):\n",
    "    sess.run(train_step, feed_dict={x: X, t: Y})"
   ]
  },
  {
   "cell_type": "code",
   "execution_count": 64,
   "metadata": {},
   "outputs": [
    {
     "name": "stdout",
     "output_type": "stream",
     "text": [
      "[1 1]\n"
     ]
    },
    {
     "data": {
      "text/plain": [
       "array([[ 0.]], dtype=float32)"
      ]
     },
     "execution_count": 64,
     "metadata": {},
     "output_type": "execute_result"
    }
   ],
   "source": [
    "# 计算预测值\n",
    "i = 3\n",
    "print(X[i])\n",
    "sess.run(y, feed_dict={x: np.reshape(X[i], [1,2])})"
   ]
  },
  {
   "cell_type": "code",
   "execution_count": 60,
   "metadata": {},
   "outputs": [
    {
     "data": {
      "text/plain": [
       "array([[ 0.        ,  0.89560884]], dtype=float32)"
      ]
     },
     "execution_count": 60,
     "metadata": {},
     "output_type": "execute_result"
    }
   ],
   "source": [
    "# 查看隐藏层输出\n",
    "sess.run(act_h1, feed_dict={x: np.reshape(X[1], [1,2])})"
   ]
  }
 ],
 "metadata": {
  "kernelspec": {
   "display_name": "Python 3",
   "language": "python",
   "name": "python3"
  },
  "language_info": {
   "codemirror_mode": {
    "name": "ipython",
    "version": 3
   },
   "file_extension": ".py",
   "mimetype": "text/x-python",
   "name": "python",
   "nbconvert_exporter": "python",
   "pygments_lexer": "ipython3",
   "version": "3.6.0"
  }
 },
 "nbformat": 4,
 "nbformat_minor": 2
}
