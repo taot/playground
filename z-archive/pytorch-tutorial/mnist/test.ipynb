{
 "cells": [
  {
   "cell_type": "code",
   "execution_count": 1,
   "id": "a812925d",
   "metadata": {},
   "outputs": [],
   "source": [
    "import torch"
   ]
  },
  {
   "cell_type": "code",
   "execution_count": 11,
   "id": "37fb38dd",
   "metadata": {},
   "outputs": [],
   "source": [
    "t = torch.rand(2, 4, 4)\n",
    "b = t.view(-1, t.size(0))"
   ]
  },
  {
   "cell_type": "code",
   "execution_count": 12,
   "id": "ca4fbaa0",
   "metadata": {},
   "outputs": [
    {
     "data": {
      "text/plain": [
       "tensor([[[0.2097, 0.7593, 0.2723, 0.4139],\n",
       "         [0.6391, 0.9272, 0.2340, 0.3162],\n",
       "         [0.8561, 0.6301, 0.2410, 0.5236],\n",
       "         [0.5418, 0.3124, 0.4287, 0.9761]],\n",
       "\n",
       "        [[0.3945, 0.5968, 0.0949, 0.1971],\n",
       "         [0.8427, 0.4897, 0.0428, 0.0020],\n",
       "         [0.2889, 0.1361, 0.0190, 0.2010],\n",
       "         [0.7765, 0.7752, 0.5001, 0.9041]]])"
      ]
     },
     "execution_count": 12,
     "metadata": {},
     "output_type": "execute_result"
    }
   ],
   "source": [
    "t"
   ]
  },
  {
   "cell_type": "code",
   "execution_count": 13,
   "id": "65205022",
   "metadata": {},
   "outputs": [
    {
     "data": {
      "text/plain": [
       "tensor([[0.2097, 0.7593],\n",
       "        [0.2723, 0.4139],\n",
       "        [0.6391, 0.9272],\n",
       "        [0.2340, 0.3162],\n",
       "        [0.8561, 0.6301],\n",
       "        [0.2410, 0.5236],\n",
       "        [0.5418, 0.3124],\n",
       "        [0.4287, 0.9761],\n",
       "        [0.3945, 0.5968],\n",
       "        [0.0949, 0.1971],\n",
       "        [0.8427, 0.4897],\n",
       "        [0.0428, 0.0020],\n",
       "        [0.2889, 0.1361],\n",
       "        [0.0190, 0.2010],\n",
       "        [0.7765, 0.7752],\n",
       "        [0.5001, 0.9041]])"
      ]
     },
     "execution_count": 13,
     "metadata": {},
     "output_type": "execute_result"
    }
   ],
   "source": [
    "b"
   ]
  },
  {
   "cell_type": "code",
   "execution_count": 10,
   "id": "204f3277",
   "metadata": {},
   "outputs": [],
   "source": [
    "t.view?"
   ]
  },
  {
   "cell_type": "code",
   "execution_count": 14,
   "id": "536d747a",
   "metadata": {},
   "outputs": [],
   "source": [
    "import torch.nn.functional as F"
   ]
  },
  {
   "cell_type": "code",
   "execution_count": 17,
   "id": "a0f78acb",
   "metadata": {},
   "outputs": [
    {
     "data": {
      "text/plain": [
       "tensor([[0, 0, 0, 0, 1, 0, 0, 0, 0, 0],\n",
       "        [0, 0, 0, 1, 0, 0, 0, 0, 0, 0],\n",
       "        [0, 0, 1, 0, 0, 0, 0, 0, 0, 0],\n",
       "        [0, 1, 0, 0, 0, 0, 0, 0, 0, 0],\n",
       "        [1, 0, 0, 0, 0, 0, 0, 0, 0, 0]])"
      ]
     },
     "execution_count": 17,
     "metadata": {},
     "output_type": "execute_result"
    }
   ],
   "source": [
    "x = torch.tensor([4,3,2,1,0])\n",
    "F.one_hot(x, num_classes=10)"
   ]
  }
 ],
 "metadata": {
  "kernelspec": {
   "display_name": "Python 3 (ipykernel)",
   "language": "python",
   "name": "python3"
  },
  "language_info": {
   "codemirror_mode": {
    "name": "ipython",
    "version": 3
   },
   "file_extension": ".py",
   "mimetype": "text/x-python",
   "name": "python",
   "nbconvert_exporter": "python",
   "pygments_lexer": "ipython3",
   "version": "3.9.7"
  }
 },
 "nbformat": 4,
 "nbformat_minor": 5
}
