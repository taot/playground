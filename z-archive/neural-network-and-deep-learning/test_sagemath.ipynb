{
 "cells": [
  {
   "cell_type": "code",
   "execution_count": 9,
   "id": "75e180bf-b2af-409e-ac70-71313cbeced6",
   "metadata": {},
   "outputs": [
    {
     "data": {
      "text/plain": [
       "2*(sqrt(-4/x + 1) + 2/(x*sqrt(-4/x + 1)) + 1)/((x*(sqrt(-4/x + 1) + 1) - 2)*x) - 2*log(1/2*x*(sqrt(-4/x + 1) + 1) - 1)/x^2"
      ]
     },
     "execution_count": 9,
     "metadata": {},
     "output_type": "execute_result"
    }
   ],
   "source": [
    "derivative((2/x)*log(x*(1+sqrt(1 - 4/x))/2 - 1), x)"
   ]
  },
  {
   "cell_type": "code",
   "execution_count": 6,
   "id": "e6645502-f313-4506-bd21-49357584fa0c",
   "metadata": {},
   "outputs": [
    {
     "data": {
      "text/plain": [
       "1/2/sqrt(x)"
      ]
     },
     "execution_count": 6,
     "metadata": {},
     "output_type": "execute_result"
    }
   ],
   "source": [
    "derivative(sqrt(x),x)"
   ]
  }
 ],
 "metadata": {
  "kernelspec": {
   "display_name": "SageMath 9.4",
   "language": "sage",
   "name": "sagemath"
  },
  "language_info": {
   "codemirror_mode": {
    "name": "ipython",
    "version": 3
   },
   "file_extension": ".py",
   "mimetype": "text/x-python",
   "name": "python",
   "nbconvert_exporter": "python",
   "pygments_lexer": "ipython3",
   "version": "3.9.7"
  }
 },
 "nbformat": 4,
 "nbformat_minor": 5
}
