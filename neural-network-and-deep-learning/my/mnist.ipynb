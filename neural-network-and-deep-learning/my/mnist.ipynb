{
 "cells": [
  {
   "cell_type": "code",
   "execution_count": 1,
   "metadata": {},
   "outputs": [
    {
     "data": {
      "text/plain": [
       "<module 'nn' from 'nn.pyc'>"
      ]
     },
     "execution_count": 1,
     "metadata": {},
     "output_type": "execute_result"
    }
   ],
   "source": [
    "import numpy as np\n",
    "import nn; reload(nn)"
   ]
  },
  {
   "cell_type": "code",
   "execution_count": 2,
   "metadata": {},
   "outputs": [
    {
     "data": {
      "text/plain": [
       "<module 'mnist_image' from 'mnist_image.pyc'>"
      ]
     },
     "execution_count": 2,
     "metadata": {},
     "output_type": "execute_result"
    }
   ],
   "source": [
    "import mnist_loader; reload(mnist_loader)\n",
    "import mnist_image; reload(mnist_image)"
   ]
  },
  {
   "cell_type": "code",
   "execution_count": 3,
   "metadata": {
    "collapsed": true
   },
   "outputs": [],
   "source": [
    "train, valid, test = mnist_loader.load_data_wrapper()"
   ]
  },
  {
   "cell_type": "code",
   "execution_count": 38,
   "metadata": {
    "collapsed": true
   },
   "outputs": [],
   "source": [
    "network = nn.Network([784, 100, 10])"
   ]
  },
  {
   "cell_type": "code",
   "execution_count": 39,
   "metadata": {},
   "outputs": [
    {
     "name": "stdout",
     "output_type": "stream",
     "text": [
      "network loaded from /home/taot/tmp/neural-network-and-deep-learning/2017-09-07_18:40:05\n"
     ]
    }
   ],
   "source": [
    "network.load('2017-09-07_18:40:05')"
   ]
  },
  {
   "cell_type": "code",
   "execution_count": 40,
   "metadata": {},
   "outputs": [
    {
     "name": "stdout",
     "output_type": "stream",
     "text": [
      "0.0409\n"
     ]
    }
   ],
   "source": [
    "err_count = 0\n",
    "for i in range(0, len(test)):\n",
    "    t = test[i]\n",
    "    network.forward(t[0])\n",
    "    y = t[1]\n",
    "    y_hat = np.argmax(network.get_outputs())\n",
    "    if y != y_hat:\n",
    "        err_count += 1\n",
    "print(1.0 * err_count / len(test))\n",
    "#     if y != y_hat and y_hat == 8:\n",
    "#         print('i = %d, y = %d, y_hat = %d, correct = %s' % (i, y, y_hat, y == y_hat))"
   ]
  },
  {
   "cell_type": "code",
   "execution_count": 32,
   "metadata": {},
   "outputs": [
    {
     "name": "stdout",
     "output_type": "stream",
     "text": [
      "digit:  2\n"
     ]
    },
    {
     "data": {
      "image/png": "[encoded data removed]",
      "text/plain": [
       "<matplotlib.figure.Figure at 0x7f9e6c20dfd0>"
      ]
     },
     "metadata": {},
     "output_type": "display_data"
    }
   ],
   "source": [
    "t = test[659]\n",
    "mnist_image.show(t)"
   ]
  },
  {
   "cell_type": "code",
   "execution_count": 18,
   "metadata": {},
   "outputs": [
    {
     "data": {
      "text/plain": [
       "[0, 0, 0, 0, 0, 0, 0, 0, 0, 0]"
      ]
     },
     "execution_count": 18,
     "metadata": {},
     "output_type": "execute_result"
    }
   ],
   "source": [
    "[0] * 10"
   ]
  },
  {
   "cell_type": "code",
   "execution_count": 19,
   "metadata": {
    "collapsed": true
   },
   "outputs": [],
   "source": [
    "def count_false_negative(y_hat_expected):\n",
    "    list = [0] * 10\n",
    "    for i in xrange(0, len(test)):\n",
    "        t = test[i]\n",
    "        network.forward(t[0])\n",
    "        y = t[1]\n",
    "        y_hat = np.argmax(network.get_outputs())\n",
    "        if y_hat == y_hat_expected and y != y_hat:\n",
    "            list[y] += 1\n",
    "    for i in range(0, 10):\n",
    "        print(\"%d: %d\" % (i, list[i]))"
   ]
  },
  {
   "cell_type": "code",
   "execution_count": 28,
   "metadata": {},
   "outputs": [
    {
     "name": "stdout",
     "output_type": "stream",
     "text": [
      "0: 3\n",
      "1: 7\n",
      "2: 24\n",
      "3: 13\n",
      "4: 1\n",
      "5: 11\n",
      "6: 6\n",
      "7: 0\n",
      "8: 0\n",
      "9: 8\n"
     ]
    }
   ],
   "source": [
    "count_false_negative(8)"
   ]
  }
 ],
 "metadata": {
  "kernelspec": {
   "display_name": "Python 2",
   "language": "python",
   "name": "python2"
  },
  "language_info": {
   "codemirror_mode": {
    "name": "ipython",
    "version": 2
   },
   "file_extension": ".py",
   "mimetype": "text/x-python",
   "name": "python",
   "nbconvert_exporter": "python",
   "pygments_lexer": "ipython2",
   "version": "2.7.13"
  }
 },
 "nbformat": 4,
 "nbformat_minor": 2
}
