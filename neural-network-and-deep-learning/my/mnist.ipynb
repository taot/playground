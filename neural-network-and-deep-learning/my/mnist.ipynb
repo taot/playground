{
 "cells": [
  {
   "cell_type": "code",
   "execution_count": 1,
   "metadata": {},
   "outputs": [
    {
     "data": {
      "text/plain": [
       "<module 'nn' from 'nn.pyc'>"
      ]
     },
     "execution_count": 1,
     "metadata": {},
     "output_type": "execute_result"
    }
   ],
   "source": [
    "import numpy as np\n",
    "import nn; reload(nn)"
   ]
  },
  {
   "cell_type": "code",
   "execution_count": 2,
   "metadata": {},
   "outputs": [
    {
     "data": {
      "text/plain": [
       "<module 'mnist_image' from 'mnist_image.pyc'>"
      ]
     },
     "execution_count": 2,
     "metadata": {},
     "output_type": "execute_result"
    }
   ],
   "source": [
    "import mnist_loader; reload(mnist_loader)\n",
    "import mnist_image; reload(mnist_image)"
   ]
  },
  {
   "cell_type": "code",
   "execution_count": 3,
   "metadata": {
    "collapsed": true
   },
   "outputs": [],
   "source": [
    "train, valid, test = mnist_loader.load_data_wrapper()"
   ]
  },
  {
   "cell_type": "code",
   "execution_count": 4,
   "metadata": {
    "collapsed": true
   },
   "outputs": [],
   "source": [
    "network = nn.Network([784, 100, 10])"
   ]
  },
  {
   "cell_type": "code",
   "execution_count": 5,
   "metadata": {
    "collapsed": true
   },
   "outputs": [],
   "source": [
    "network.lr = 1e-4\n",
    "network.forward(train[1][0])"
   ]
  },
  {
   "cell_type": "code",
   "execution_count": 6,
   "metadata": {},
   "outputs": [
    {
     "name": "stdout",
     "output_type": "stream",
     "text": [
      "network loaded from /home/taot/tmp/neural-network-and-deep-learning/2017-09-06_21:27:28\n"
     ]
    }
   ],
   "source": [
    "network.load('2017-09-06_21:27:28')"
   ]
  },
  {
   "cell_type": "code",
   "execution_count": 15,
   "metadata": {},
   "outputs": [
    {
     "name": "stdout",
     "output_type": "stream",
     "text": [
      "i = 0, y = 7, y_hat = 7, correct = True\n",
      "i = 1, y = 2, y_hat = 2, correct = True\n",
      "i = 2, y = 1, y_hat = 1, correct = True\n",
      "i = 3, y = 0, y_hat = 0, correct = True\n",
      "i = 4, y = 4, y_hat = 4, correct = True\n",
      "i = 5, y = 1, y_hat = 1, correct = True\n",
      "i = 6, y = 4, y_hat = 4, correct = True\n",
      "i = 7, y = 9, y_hat = 9, correct = True\n",
      "i = 8, y = 5, y_hat = 6, correct = False\n",
      "i = 9, y = 9, y_hat = 9, correct = True\n",
      "i = 10, y = 0, y_hat = 0, correct = True\n",
      "i = 11, y = 6, y_hat = 6, correct = True\n",
      "i = 12, y = 9, y_hat = 9, correct = True\n",
      "i = 13, y = 0, y_hat = 0, correct = True\n",
      "i = 14, y = 1, y_hat = 1, correct = True\n",
      "i = 15, y = 5, y_hat = 5, correct = True\n",
      "i = 16, y = 9, y_hat = 9, correct = True\n",
      "i = 17, y = 7, y_hat = 7, correct = True\n",
      "i = 18, y = 3, y_hat = 3, correct = True\n",
      "i = 19, y = 4, y_hat = 4, correct = True\n",
      "i = 20, y = 9, y_hat = 9, correct = True\n",
      "i = 21, y = 6, y_hat = 6, correct = True\n",
      "i = 22, y = 6, y_hat = 6, correct = True\n",
      "i = 23, y = 5, y_hat = 5, correct = True\n",
      "i = 24, y = 4, y_hat = 4, correct = True\n",
      "i = 25, y = 0, y_hat = 0, correct = True\n",
      "i = 26, y = 7, y_hat = 7, correct = True\n",
      "i = 27, y = 4, y_hat = 4, correct = True\n",
      "i = 28, y = 0, y_hat = 0, correct = True\n",
      "i = 29, y = 1, y_hat = 1, correct = True\n",
      "i = 30, y = 3, y_hat = 3, correct = True\n",
      "i = 31, y = 1, y_hat = 1, correct = True\n",
      "i = 32, y = 3, y_hat = 3, correct = True\n",
      "i = 33, y = 4, y_hat = 4, correct = True\n",
      "i = 34, y = 7, y_hat = 7, correct = True\n",
      "i = 35, y = 2, y_hat = 2, correct = True\n",
      "i = 36, y = 7, y_hat = 7, correct = True\n",
      "i = 37, y = 1, y_hat = 1, correct = True\n",
      "i = 38, y = 2, y_hat = 2, correct = True\n",
      "i = 39, y = 1, y_hat = 1, correct = True\n",
      "i = 40, y = 1, y_hat = 1, correct = True\n",
      "i = 41, y = 7, y_hat = 7, correct = True\n",
      "i = 42, y = 4, y_hat = 4, correct = True\n",
      "i = 43, y = 2, y_hat = 2, correct = True\n",
      "i = 44, y = 3, y_hat = 3, correct = True\n",
      "i = 45, y = 5, y_hat = 5, correct = True\n",
      "i = 46, y = 1, y_hat = 1, correct = True\n",
      "i = 47, y = 2, y_hat = 2, correct = True\n",
      "i = 48, y = 4, y_hat = 4, correct = True\n",
      "i = 49, y = 4, y_hat = 4, correct = True\n"
     ]
    }
   ],
   "source": [
    "for i in range(0, 50):\n",
    "    t = test[i]\n",
    "    network.forward(t[0])\n",
    "    y = t[1]\n",
    "    y_hat = np.argmax(network.get_outputs())\n",
    "    print('i = %d, y = %d, y_hat = %d, correct = %s' % (i, y, y_hat, y == y_hat))"
   ]
  },
  {
   "cell_type": "code",
   "execution_count": 19,
   "metadata": {},
   "outputs": [
    {
     "name": "stdout",
     "output_type": "stream",
     "text": [
      "digit:  0\n"
     ]
    },
    {
     "data": {
      "image/png": "[encoded data removed]",
      "text/plain": [
       "<matplotlib.figure.Figure at 0x7f57a7b1ced0>"
      ]
     },
     "metadata": {},
     "output_type": "display_data"
    }
   ],
   "source": [
    "t = test[13]\n",
    "mnist_image.show(t)"
   ]
  }
 ],
 "metadata": {
  "kernelspec": {
   "display_name": "Python 2",
   "language": "python",
   "name": "python2"
  },
  "language_info": {
   "codemirror_mode": {
    "name": "ipython",
    "version": 2
   },
   "file_extension": ".py",
   "mimetype": "text/x-python",
   "name": "python",
   "nbconvert_exporter": "python",
   "pygments_lexer": "ipython2",
   "version": "2.7.13"
  }
 },
 "nbformat": 4,
 "nbformat_minor": 2
}
