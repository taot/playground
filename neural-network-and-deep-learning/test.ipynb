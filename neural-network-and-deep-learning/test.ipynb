{
 "cells": [
  {
   "cell_type": "code",
   "execution_count": 2,
   "id": "0eaa79aa-62d8-4f50-8992-55eb50389ea5",
   "metadata": {},
   "outputs": [],
   "source": [
    "import numpy as np"
   ]
  },
  {
   "cell_type": "code",
   "execution_count": 29,
   "id": "99b0da4d-2779-45a5-9a81-773115c5baa4",
   "metadata": {},
   "outputs": [
    {
     "data": {
      "text/plain": [
       "array([[ 0.9139359 ],\n",
       "       [ 1.4882322 ],\n",
       "       [ 0.2817126 ],\n",
       "       [-0.29402577],\n",
       "       [ 0.68716928],\n",
       "       [ 1.31832697],\n",
       "       [-0.85494199],\n",
       "       [-0.97028752],\n",
       "       [ 0.1268794 ],\n",
       "       [ 0.80215091]])"
      ]
     },
     "execution_count": 29,
     "metadata": {},
     "output_type": "execute_result"
    }
   ],
   "source": [
    "np.random.randn(10,1)"
   ]
  },
  {
   "cell_type": "code",
   "execution_count": 31,
   "id": "6c4f75d8-8674-4c64-b1d4-beb79ef85ab7",
   "metadata": {},
   "outputs": [],
   "source": [
    "sizes = [1,2,3,4,5]"
   ]
  },
  {
   "cell_type": "code",
   "execution_count": 32,
   "id": "393a91b5-7a33-430d-8ddc-083678c03490",
   "metadata": {},
   "outputs": [
    {
     "data": {
      "text/plain": [
       "[1, 2, 3, 4]"
      ]
     },
     "execution_count": 32,
     "metadata": {},
     "output_type": "execute_result"
    }
   ],
   "source": [
    "sizes[:-1]"
   ]
  }
 ],
 "metadata": {
  "kernelspec": {
   "display_name": "Python 3 (ipykernel)",
   "language": "python",
   "name": "python3"
  },
  "language_info": {
   "codemirror_mode": {
    "name": "ipython",
    "version": 3
   },
   "file_extension": ".py",
   "mimetype": "text/x-python",
   "name": "python",
   "nbconvert_exporter": "python",
   "pygments_lexer": "ipython3",
   "version": "3.9.5"
  }
 },
 "nbformat": 4,
 "nbformat_minor": 5
}
