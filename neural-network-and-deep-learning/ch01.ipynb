{
 "cells": [
  {
   "cell_type": "code",
   "execution_count": 1,
   "id": "b163dc52-a78e-48a7-a85a-7d209e11ff3b",
   "metadata": {},
   "outputs": [],
   "source": [
    "import mnist_loader\n",
    "import network"
   ]
  },
  {
   "cell_type": "code",
   "execution_count": 2,
   "id": "73840b8d-6490-4c56-ba03-45e1bc44c772",
   "metadata": {},
   "outputs": [],
   "source": [
    "training_data, validation_data, test_data = mnist_loader.load_data_wrapper()"
   ]
  },
  {
   "cell_type": "code",
   "execution_count": 3,
   "id": "31a6df38-5a09-4437-816f-3f4dcbcd1631",
   "metadata": {},
   "outputs": [],
   "source": [
    "net = network.Network([784, 30, 10])"
   ]
  },
  {
   "cell_type": "code",
   "execution_count": 4,
   "id": "086abae3-71c4-4169-bf2a-7a94be33e0b5",
   "metadata": {},
   "outputs": [
    {
     "name": "stdout",
     "output_type": "stream",
     "text": [
      "Before training: 525 / 10000\n",
      "Epoch 0: 8127 / 10000\n",
      "Epoch 1: 8313 / 10000\n",
      "Epoch 2: 8368 / 10000\n",
      "Epoch 3: 8450 / 10000\n",
      "Epoch 4: 8442 / 10000\n",
      "Epoch 5: 8463 / 10000\n",
      "Epoch 6: 8452 / 10000\n",
      "Epoch 7: 8534 / 10000\n",
      "Epoch 8: 8505 / 10000\n",
      "Epoch 9: 8518 / 10000\n",
      "Epoch 10: 8538 / 10000\n",
      "Epoch 11: 8551 / 10000\n",
      "Epoch 12: 8550 / 10000\n",
      "Epoch 13: 8547 / 10000\n",
      "Epoch 14: 8508 / 10000\n",
      "Epoch 15: 8550 / 10000\n",
      "Epoch 16: 8543 / 10000\n",
      "Epoch 17: 8556 / 10000\n",
      "Epoch 18: 8507 / 10000\n",
      "Epoch 19: 8522 / 10000\n",
      "Epoch 20: 8567 / 10000\n",
      "Epoch 21: 8562 / 10000\n",
      "Epoch 22: 8540 / 10000\n",
      "Epoch 23: 8562 / 10000\n",
      "Epoch 24: 8564 / 10000\n",
      "Epoch 25: 8572 / 10000\n",
      "Epoch 26: 8571 / 10000\n",
      "Epoch 27: 9469 / 10000\n",
      "Epoch 28: 9476 / 10000\n",
      "Epoch 29: 9480 / 10000\n"
     ]
    }
   ],
   "source": [
    "net.SGD(training_data, 30, 10, 3.0, test_data=test_data)"
   ]
  },
  {
   "cell_type": "code",
   "execution_count": null,
   "id": "254a7bad-f556-4730-921c-c8a86c84b2a8",
   "metadata": {},
   "outputs": [],
   "source": []
  }
 ],
 "metadata": {
  "kernelspec": {
   "display_name": "Python 3 (ipykernel)",
   "language": "python",
   "name": "python3"
  },
  "language_info": {
   "codemirror_mode": {
    "name": "ipython",
    "version": 3
   },
   "file_extension": ".py",
   "mimetype": "text/x-python",
   "name": "python",
   "nbconvert_exporter": "python",
   "pygments_lexer": "ipython3",
   "version": "3.9.5"
  }
 },
 "nbformat": 4,
 "nbformat_minor": 5
}
