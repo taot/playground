{
 "cells": [
  {
   "cell_type": "code",
   "execution_count": 26,
   "id": "b2d304bc-475f-4389-97d6-e48c8780b888",
   "metadata": {},
   "outputs": [],
   "source": [
    "from typing import List, Optional"
   ]
  },
  {
   "cell_type": "code",
   "execution_count": 2,
   "id": "2ba2b359-e33b-46e5-9cd6-61ac7fdcfcf9",
   "metadata": {},
   "outputs": [
    {
     "name": "stdout",
     "output_type": "stream",
     "text": [
      "1115394\n"
     ]
    }
   ],
   "source": [
    "# Dataset\n",
    "DATA_FILE = \"/home/taot/data/huggingface/my-neural-network-data/gpt-from-scratch/tiny_shakespeare.txt\"\n",
    "with open(DATA_FILE, \"r\") as fp:\n",
    "    text = fp.read()\n",
    "print(len(text))"
   ]
  },
  {
   "cell_type": "code",
   "execution_count": 3,
   "id": "01a3d4e8-99a1-460b-96c1-793a6e8a0f9e",
   "metadata": {},
   "outputs": [
    {
     "name": "stdout",
     "output_type": "stream",
     "text": [
      "vocab_size = 65\n",
      "vocab = \n",
      " !$&',-.3:;?ABCDEFGHIJKLMNOPQRSTUVWXYZabcdefghijklmnopqrstuvwxyz\n"
     ]
    }
   ],
   "source": [
    "# Character-based tokenize\n",
    "def get_vocab(data: str) -> List[str]:\n",
    "    vocab = sorted(set(text))\n",
    "    print(f\"vocab_size = {len(vocab)}\")\n",
    "    print(f\"vocab = {''.join(vocab)}\")\n",
    "    return vocab\n",
    "\n",
    "vocab = get_vocab(text)"
   ]
  },
  {
   "cell_type": "code",
   "execution_count": 4,
   "id": "2ca30e44-bdcd-4f61-a9ae-c3927c0fc6ad",
   "metadata": {},
   "outputs": [],
   "source": [
    "stoi = {c:i for i, c in enumerate(vocab)}\n",
    "itos = {i:c for i, c in enumerate(vocab)}\n",
    "\n",
    "def encode(s: str) -> List[str]:\n",
    "    return [stoi[c] for c in s]\n",
    "\n",
    "def decode(ids: List[int]) -> str:\n",
    "    return ''.join([itos[i] for i in ids])"
   ]
  },
  {
   "cell_type": "code",
   "execution_count": 5,
   "id": "dda9adb7-d9c6-4558-9bd2-b22aa9cb079c",
   "metadata": {},
   "outputs": [
    {
     "name": "stdout",
     "output_type": "stream",
     "text": [
      "[46, 43, 50, 50, 53]\n",
      "hello\n"
     ]
    }
   ],
   "source": [
    "ids = encode(\"hello\")\n",
    "print(ids)\n",
    "print(decode(ids))"
   ]
  },
  {
   "cell_type": "code",
   "execution_count": 6,
   "id": "0e1db4a7-1b7f-47d1-95b1-bc0b16275fec",
   "metadata": {},
   "outputs": [
    {
     "name": "stdout",
     "output_type": "stream",
     "text": [
      "torch.Size([1115394])\n",
      "tensor([18, 47, 56, 57, 58,  1, 15, 47, 58, 47, 64, 43, 52, 10,  0, 14, 43, 44,\n",
      "        53, 56, 43,  1, 61, 43,  1, 54, 56, 53, 41, 43, 43, 42,  1, 39, 52, 63,\n",
      "         1, 44, 59, 56, 58, 46, 43, 56,  6,  1, 46, 43, 39, 56,  1, 51, 43,  1,\n",
      "        57, 54, 43, 39, 49,  8,  0,  0, 13, 50, 50, 10,  0, 31, 54, 43, 39, 49,\n",
      "         6,  1, 57, 54, 43, 39, 49,  8,  0,  0, 18, 47, 56, 57, 58,  1, 15, 47,\n",
      "        58, 47, 64, 43, 52, 10,  0, 37, 53, 59])\n"
     ]
    }
   ],
   "source": [
    "# Convert data to tensor\n",
    "import torch\n",
    "\n",
    "data = torch.tensor(encode(text), dtype=torch.long)\n",
    "print(data.size())\n",
    "print(data[:100])"
   ]
  },
  {
   "cell_type": "code",
   "execution_count": 7,
   "id": "2aedd24e-56bc-45a4-8497-e8068d5db653",
   "metadata": {},
   "outputs": [],
   "source": [
    "# Split the data into train and validation\n",
    "n = int(0.9 * len(data))\n",
    "train_data = data[:n]\n",
    "val_data = data[n:]"
   ]
  },
  {
   "cell_type": "code",
   "execution_count": 8,
   "id": "443df8dd-1672-4422-81ef-b25d91dd5cf9",
   "metadata": {},
   "outputs": [
    {
     "data": {
      "text/plain": [
       "tensor([18, 47, 56, 57, 58,  1, 15, 47, 58])"
      ]
     },
     "execution_count": 8,
     "metadata": {},
     "output_type": "execute_result"
    }
   ],
   "source": [
    "block_size = 8\n",
    "train_data[:block_size+1]"
   ]
  },
  {
   "cell_type": "code",
   "execution_count": 9,
   "id": "d9dc8c2a-d952-44ca-be59-11bcea9665f7",
   "metadata": {},
   "outputs": [
    {
     "name": "stdout",
     "output_type": "stream",
     "text": [
      "input = tensor([18]), target = 47\n",
      "input = tensor([18, 47]), target = 56\n",
      "input = tensor([18, 47, 56]), target = 57\n",
      "input = tensor([18, 47, 56, 57]), target = 58\n",
      "input = tensor([18, 47, 56, 57, 58]), target = 1\n",
      "input = tensor([18, 47, 56, 57, 58,  1]), target = 15\n",
      "input = tensor([18, 47, 56, 57, 58,  1, 15]), target = 47\n",
      "input = tensor([18, 47, 56, 57, 58,  1, 15, 47]), target = 58\n"
     ]
    }
   ],
   "source": [
    "x = train_data[0:block_size]\n",
    "y = train_data[1:block_size+1]\n",
    "for t in range(block_size):\n",
    "    context = x[:t+1]\n",
    "    target = y[t]\n",
    "    print(f\"input = {context}, target = {target}\")"
   ]
  },
  {
   "cell_type": "code",
   "execution_count": 10,
   "id": "a76e3e6e-8a62-4ffd-9d4d-436566a60a0a",
   "metadata": {},
   "outputs": [
    {
     "data": {
      "text/plain": [
       "tensor([[1, 1, 2],\n",
       "        [1, 0, 2]])"
      ]
     },
     "execution_count": 10,
     "metadata": {},
     "output_type": "execute_result"
    }
   ],
   "source": [
    "torch.randint(3, (2, 3))"
   ]
  },
  {
   "cell_type": "code",
   "execution_count": 11,
   "id": "9e95f328-8a10-4890-89c1-d5eb3fe5917e",
   "metadata": {},
   "outputs": [],
   "source": [
    "torch.manual_seed(1337)\n",
    "batch_size = 4\n",
    "block_size = 8\n",
    "\n",
    "def get_batch(split: str):\n",
    "    data = train_data if split == \"train\" else val_data\n",
    "    ix = torch.randint(len(data) - block_size, (batch_size,))\n",
    "    x = torch.stack([data[i:i+block_size] for i in ix])\n",
    "    y = torch.stack([data[i+1:i+block_size+1] for i in ix])\n",
    "    return x, y"
   ]
  },
  {
   "cell_type": "code",
   "execution_count": 12,
   "id": "70578706-363d-414f-b815-6b169ae9bd26",
   "metadata": {},
   "outputs": [],
   "source": [
    "xb, yb = get_batch(\"train\")"
   ]
  },
  {
   "cell_type": "code",
   "execution_count": 54,
   "id": "a17ddeca-eade-4d31-857c-a31af61ac3fd",
   "metadata": {},
   "outputs": [],
   "source": [
    "# Bigram language model\n",
    "import torch\n",
    "import torch.nn as nn\n",
    "from torch.nn import functional as F\n",
    "from torch import Tensor\n",
    "\n",
    "torch.manual_seed(1337)\n",
    "\n",
    "class BigramLanguageModel(nn.Module):\n",
    "\n",
    "    def __init__(self, vocab_size: int):\n",
    "        super().__init__()\n",
    "        self.token_embedding_table = nn.Embedding(vocab_size, vocab_size)\n",
    "\n",
    "    def forward(self, idx: Tensor, targets: Optional[Tensor] = None):\n",
    "        # idx and targets are both (B,T). B is batch_size, T is time (block_size which is 8), C is classes\n",
    "        logits = self.token_embedding_table(idx)  # (B,T,C)\n",
    "\n",
    "        if targets is None:\n",
    "            loss = None\n",
    "        else:\n",
    "            B, T, C = logits.shape\n",
    "            logits = logits.view(B * T, C)\n",
    "            targets = targets.view(B * T)\n",
    "            loss = F.cross_entropy(logits, targets)\n",
    "        \n",
    "        return logits, loss   # (B,T,C)\n",
    "\n",
    "    def generate(self, idx: Tensor, max_new_tokens: int) -> Tensor:\n",
    "        # idx: (B, T)\n",
    "        for _ in range(max_new_tokens):\n",
    "            logits, _ = self(idx)   # (B, T, C)\n",
    "            logits = logits[:, -1, :]   # (B, 1, C)\n",
    "            \n",
    "            probs = torch.softmax(logits, dim=-1)\n",
    "            idx_next = torch.multinomial(probs, num_samples=1)\n",
    "            \n",
    "            idx = torch.cat([idx, idx_next], dim=1)   # (B, T+1)\n",
    "\n",
    "        return idx            "
   ]
  },
  {
   "cell_type": "code",
   "execution_count": 55,
   "id": "47562c79-1004-492f-b81c-9859131a1afe",
   "metadata": {},
   "outputs": [
    {
     "data": {
      "text/plain": [
       "\"\\nSr?qP-QWktXoL&jLDJgOLVz'RIoDqHdhsV&vLLxatjscMpwLER\""
      ]
     },
     "execution_count": 55,
     "metadata": {},
     "output_type": "execute_result"
    }
   ],
   "source": [
    "vocab_size = len(vocab)\n",
    "m = BigramLanguageModel(vocab_size)\n",
    "# logits, loss = m(xb, yb)\n",
    "# print(f\"xb.size() = {xb.size()}\")\n",
    "# print(f\"logits.size() = {logits.size()}\")\n",
    "# print(f\"loss.size() = {loss.size()}\")\n",
    "# print(f\"loss = {loss}\")\n",
    "\n",
    "decode(m.generate(torch.zeros((1,1), dtype=torch.long), max_new_tokens=50)[0].tolist())"
   ]
  },
  {
   "cell_type": "code",
   "execution_count": null,
   "id": "4434f054-ebee-40cd-a785-81af9c1a1b0e",
   "metadata": {},
   "outputs": [],
   "source": [
    "# Train the model\n",
    "optimizer = torch.optim.Adam(m.parameters(), lr=1e-3)\n",
    "batch_size = 32\n",
    "for step in range(1000):\n",
    "    xb, yb = get_batch(\"train\")\n",
    "    targets, loss = m(xb, yb)\n",
    "    optimizer.zero_grad()\n",
    "    loss.backward()\n",
    "    optimizer.step()\n",
    "\n",
    "    print(f\"step = {step}, loss = {loss.item()}\")"
   ]
  },
  {
   "cell_type": "code",
   "execution_count": 63,
   "id": "70515895-ab42-4781-9f85-cfd3d03e0b30",
   "metadata": {},
   "outputs": [
    {
     "data": {
      "text/plain": [
       "\"\\n\\nD tt a wisoouss we hend thawim I fif RDIVI tharf, my\\nHMAng.\\nIfomer\\n\\n\\nARFiaulfitome nakies w,\\nWh t, reas ouckisouleerolutow m:\\n\\nWherond bale g d bres hof wit'st Wh'the.\\nLishor e abe go g ad gang tamy s widir d Ind ase.\\nTLI:\\nTHAN:\\nAnagrt to ss\\nThy Rit aler,\\nguscooo tshoupar st athay tt\\nWAwe tor,\\nOFo lyourcal oope bllee?\\nWhu we o whavetous! pers farthethulos Hee omyou Vins VInd bast:\\n\\nD:\\n\\nAbishiethe loul?\\n\\nS:\\nKELI, berisho llle;\\nObr ps 'ded med, d in thathret-vetomy ge your may lil'diteranoneo MAS\""
      ]
     },
     "execution_count": 63,
     "metadata": {},
     "output_type": "execute_result"
    }
   ],
   "source": [
    "decode(m.generate(torch.zeros((1,1), dtype=torch.long), max_new_tokens=500)[0].tolist())"
   ]
  },
  {
   "cell_type": "markdown",
   "id": "e9df57ce-2965-40a3-a94c-c26cb1c40b4a",
   "metadata": {},
   "source": [
    "# Mathematical trick in self-attention"
   ]
  },
  {
   "cell_type": "code",
   "execution_count": null,
   "id": "aae4a3ef-d2a1-44f6-9d36-4621bae19bc6",
   "metadata": {},
   "outputs": [],
   "source": []
  }
 ],
 "metadata": {
  "kernelspec": {
   "display_name": "Python 3 (ipykernel)",
   "language": "python",
   "name": "python3"
  },
  "language_info": {
   "codemirror_mode": {
    "name": "ipython",
    "version": 3
   },
   "file_extension": ".py",
   "mimetype": "text/x-python",
   "name": "python",
   "nbconvert_exporter": "python",
   "pygments_lexer": "ipython3",
   "version": "3.10.14"
  }
 },
 "nbformat": 4,
 "nbformat_minor": 5
}
