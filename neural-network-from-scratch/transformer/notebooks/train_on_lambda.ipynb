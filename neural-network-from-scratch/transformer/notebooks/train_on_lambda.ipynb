{
 "cells": [
  {
   "cell_type": "code",
   "execution_count": 1,
   "id": "a8622281-e916-4f55-a1df-df5835704984",
   "metadata": {},
   "outputs": [],
   "source": [
    "import sys\n",
    "sys.path.append(\"/home/ubuntu/playground/neural-network-from-scratch/transformer\")"
   ]
  },
  {
   "cell_type": "code",
   "execution_count": 1,
   "id": "18d8d6fa",
   "metadata": {},
   "outputs": [],
   "source": [
    "import sys\n",
    "sys.path.append(\"/home/ubuntu/playground/neural-network-from-scratch/transformer\")"
   ]
  },
  {
   "cell_type": "code",
   "execution_count": 2,
   "id": "1b661047-0a01-4ab8-a2c9-7c643898e342",
   "metadata": {},
   "outputs": [
    {
     "name": "stderr",
     "output_type": "stream",
     "text": [
      "2024-06-16 23:11:17.742769: I tensorflow/core/util/port.cc:110] oneDNN custom operations are on. You may see slightly different numerical results due to floating-point round-off errors from different computation orders. To turn them off, set the environment variable `TF_ENABLE_ONEDNN_OPTS=0`.\n",
      "2024-06-16 23:11:17.785031: I tensorflow/core/platform/cpu_feature_guard.cc:182] This TensorFlow binary is optimized to use available CPU instructions in performance-critical operations.\n",
      "To enable the following instructions: AVX512F AVX512_VNNI, in other operations, rebuild TensorFlow with the appropriate compiler flags.\n",
      "/usr/lib/python3/dist-packages/scipy/__init__.py:146: UserWarning: A NumPy version >=1.17.3 and <1.25.0 is required for this version of SciPy (detected version 1.25.2\n",
      "  warnings.warn(f\"A NumPy version >={np_minversion} and <{np_maxversion}\"\n"
     ]
    }
   ],
   "source": [
    "from config import get_config\n",
    "import train"
   ]
  },
  {
   "cell_type": "code",
   "execution_count": 3,
   "id": "9b7040cb-73d5-4e8d-8490-43b3b0a4f95c",
   "metadata": {},
   "outputs": [
    {
     "name": "stdout",
     "output_type": "stream",
     "text": [
      "/home/ubuntu/my-neural-network-data/transformer-from-scratch\n"
     ]
    }
   ],
   "source": [
    "config = get_config(\"lambda\")"
   ]
  },
  {
   "cell_type": "code",
   "execution_count": 4,
   "id": "5c1904fe-ca0c-414e-893a-3a37630950db",
   "metadata": {},
   "outputs": [
    {
     "data": {
      "text/plain": [
       "{'env': 'lambda',\n",
       " 'tokenizer_file': '/home/ubuntu/my-neural-network-data/transformer-from-scratch/tokenizers/tokenizer_{0}.json',\n",
       " 'lang_src': 'en',\n",
       " 'lang_tgt': 'zh',\n",
       " 'seq_len': 52,\n",
       " 'dataset': 'librakevin/wmt19-short',\n",
       " 'dataset_config_name': 'zh-en-50-small',\n",
       " 'batch_size': 16,\n",
       " 'd_model': 512,\n",
       " 'n_layers': 6,\n",
       " 'num_epochs': 3,\n",
       " 'validation_every_n_steps': 3000,\n",
       " 'validation_num_examples': 2,\n",
       " 'lr': 0.0001,\n",
       " 'preload': None,\n",
       " 'model_folder': 'weights',\n",
       " 'model_basename': 'tmodel_',\n",
       " 'tensorboard_log_dir': '/home/ubuntu/data/runs/tmodel'}"
      ]
     },
     "execution_count": 4,
     "metadata": {},
     "output_type": "execute_result"
    }
   ],
   "source": [
    "config"
   ]
  },
  {
   "cell_type": "code",
   "execution_count": null,
   "id": "f32ecd4e-68b9-4480-97cc-3b99ff27e08c",
   "metadata": {},
   "outputs": [
    {
     "name": "stdout",
     "output_type": "stream",
     "text": [
      "Using device cuda\n"
     ]
    },
    {
     "name": "stderr",
     "output_type": "stream",
     "text": [
      "Processing epoch 00:   0%|          | 0/6251 [00:01<?, ?it/s, loss=12.889]"
     ]
    },
    {
     "name": "stdout",
     "output_type": "stream",
     "text": [
      "--------------------------------------------------------------------------------\n",
      "SOURCE: Last week, the broadcast of period drama “Beauty Private Kitchen” was temporarily halted, and accidentally triggered heated debate about faked ratings of locally produced dramas.\n",
      "TARGET: 上周，古装剧《美人私房菜》临时停播，意外引发了关于国产剧收视率造假的热烈讨论。\n",
      "PREDICTED: [SOS]listing她她她literature中银SubaytiSubaytiSubaytiSubaytiSubaytiSubaytiSubaytiSubaytiSubaytiSubaytiSubaytiSubaytiSubaytiSubaytiSubaytiSubaytiSubaytiSubaytiSubaytiSubaytiSubaytiSubaytiSubaytiSubayti最近最近贝特森贝特森MowagMowag130C5854失血过多失血过多失血过多失血过多失血过多FondationFondation舟子舟子皱纹纸Jeanty警告MyDash\n"
     ]
    },
    {
     "name": "stderr",
     "output_type": "stream",
     "text": [
      "Processing epoch 00:   0%|          | 1/6251 [00:01<2:24:10,  1.38s/it, loss=12.863]"
     ]
    },
    {
     "name": "stdout",
     "output_type": "stream",
     "text": [
      "--------------------------------------------------------------------------------\n",
      "SOURCE: Civil rights group issues travel warning for Missouri\n",
      "TARGET: 民权团体针对密苏里州发出旅行警告\n",
      "PREDICTED: [SOS]listing她她她literature中银SubaytiSubaytiSubaytiSubaytiSubaytiSubaytiSubaytiSubaytiSubaytiSubaytiSubaytiSubaytiSubaytiSubaytiSubaytiSubaytiSubaytiSubaytiSubaytiSubaytiSubaytiSubaytiSubaytiSubayti最近最近贝特森贝特森MowagMowag130C5854失血过多失血过多失血过多失血过多失血过多FondationFondation舟子舟子皱纹纸Jeanty警告MyDash\n"
     ]
    },
    {
     "name": "stderr",
     "output_type": "stream",
     "text": [
      "Processing epoch 00:  48%|████▊     | 3000/6251 [10:49<11:44,  4.62it/s, loss=6.419]"
     ]
    },
    {
     "name": "stdout",
     "output_type": "stream",
     "text": [
      "--------------------------------------------------------------------------------\n",
      "SOURCE: Last week, the broadcast of period drama “Beauty Private Kitchen” was temporarily halted, and accidentally triggered heated debate about faked ratings of locally produced dramas.\n",
      "TARGET: 上周，古装剧《美人私房菜》临时停播，意外引发了关于国产剧收视率造假的热烈讨论。\n",
      "PREDICTED: [SOS]([UNK]，的[UNK]，.的[UNK]，.的[UNK]，.的[UNK]，.的人员制度问题[UNK]和[EOS]\n",
      "--------------------------------------------------------------------------------\n",
      "SOURCE: Civil rights group issues travel warning for Missouri\n",
      "TARGET: 民权团体针对密苏里州发出旅行警告\n"
     ]
    },
    {
     "name": "stderr",
     "output_type": "stream",
     "text": [
      "Processing epoch 00:  48%|████▊     | 3001/6251 [10:49<20:22,  2.66it/s, loss=6.662]"
     ]
    },
    {
     "name": "stdout",
     "output_type": "stream",
     "text": [
      "PREDICTED: [SOS]([UNK]，的[UNK]，.的[UNK]，.的[UNK]，.的[UNK]，.的人员制度问题[UNK]和[EOS]\n"
     ]
    },
    {
     "name": "stderr",
     "output_type": "stream",
     "text": [
      "Processing epoch 00:  96%|█████████▌| 6001/6251 [21:40<01:28,  2.82it/s, loss=6.354]"
     ]
    },
    {
     "name": "stdout",
     "output_type": "stream",
     "text": [
      "--------------------------------------------------------------------------------\n",
      "SOURCE: Last week, the broadcast of period drama “Beauty Private Kitchen” was temporarily halted, and accidentally triggered heated debate about faked ratings of locally produced dramas.\n",
      "TARGET: 上周，古装剧《美人私房菜》临时停播，意外引发了关于国产剧收视率造假的热烈讨论。\n",
      "PREDICTED: [SOS]([UNK]，的除，的[UNK]，.的[UNK]，.的[UNK]，.的[UNK]和[EOS]\n",
      "--------------------------------------------------------------------------------\n",
      "SOURCE: Civil rights group issues travel warning for Missouri\n",
      "TARGET: 民权团体针对密苏里州发出旅行警告\n",
      "PREDICTED: [SOS]([UNK]，的除，的[UNK]，.的[UNK]，.的[UNK]，.的[UNK]和[EOS]\n"
     ]
    },
    {
     "name": "stderr",
     "output_type": "stream",
     "text": [
      "Processing epoch 00: 100%|██████████| 6251/6251 [22:34<00:00,  4.61it/s, loss=6.677]\n"
     ]
    },
    {
     "name": "stdout",
     "output_type": "stream",
     "text": [
      "--------------------------------------------------------------------------------\n",
      "SOURCE: Last week, the broadcast of period drama “Beauty Private Kitchen” was temporarily halted, and accidentally triggered heated debate about faked ratings of locally produced dramas.\n",
      "TARGET: 上周，古装剧《美人私房菜》临时停播，意外引发了关于国产剧收视率造假的热烈讨论。\n",
      "PREDICTED: [SOS]([UNK]，的除，.的除，.的人员制度问题[UNK]，.的人员和[EOS]\n",
      "--------------------------------------------------------------------------------\n",
      "SOURCE: Civil rights group issues travel warning for Missouri\n",
      "TARGET: 民权团体针对密苏里州发出旅行警告\n",
      "PREDICTED: [SOS]([UNK]，的除，.的除，.的人员制度问题[UNK]，.的人员和[EOS]\n"
     ]
    },
    {
     "name": "stderr",
     "output_type": "stream",
     "text": [
      "Processing epoch 01:  14%|█▍        | 869/6251 [03:08<19:26,  4.61it/s, loss=6.214]"
     ]
    }
   ],
   "source": [
    "train.train_model(config)"
   ]
  },
  {
   "cell_type": "code",
   "execution_count": 2,
   "id": "a719de79",
   "metadata": {},
   "outputs": [
    {
     "name": "stderr",
     "output_type": "stream",
     "text": [
      "2024-06-16 23:11:17.742769: I tensorflow/core/util/port.cc:110] oneDNN custom operations are on. You may see slightly different numerical results due to floating-point round-off errors from different computation orders. To turn them off, set the environment variable `TF_ENABLE_ONEDNN_OPTS=0`.\n",
      "2024-06-16 23:11:17.785031: I tensorflow/core/platform/cpu_feature_guard.cc:182] This TensorFlow binary is optimized to use available CPU instructions in performance-critical operations.\n",
      "To enable the following instructions: AVX512F AVX512_VNNI, in other operations, rebuild TensorFlow with the appropriate compiler flags.\n",
      "/usr/lib/python3/dist-packages/scipy/__init__.py:146: UserWarning: A NumPy version >=1.17.3 and <1.25.0 is required for this version of SciPy (detected version 1.25.2\n",
      "  warnings.warn(f\"A NumPy version >={np_minversion} and <{np_maxversion}\"\n"
     ]
    }
   ],
   "source": [
    "from config import get_config\n",
    "import train"
   ]
  },
  {
   "cell_type": "code",
   "execution_count": 3,
   "id": "26cec936",
   "metadata": {},
   "outputs": [
    {
     "name": "stdout",
     "output_type": "stream",
     "text": [
      "/home/ubuntu/my-neural-network-data/transformer-from-scratch\n"
     ]
    }
   ],
   "source": [
    "config = get_config(\"lambda\")"
   ]
  },
  {
   "cell_type": "code",
   "execution_count": 4,
   "id": "12b7e751",
   "metadata": {},
   "outputs": [
    {
     "data": {
      "text/plain": [
       "{'env': 'lambda',\n",
       " 'tokenizer_file': '/home/ubuntu/my-neural-network-data/transformer-from-scratch/tokenizers/tokenizer_{0}.json',\n",
       " 'lang_src': 'en',\n",
       " 'lang_tgt': 'zh',\n",
       " 'seq_len': 52,\n",
       " 'dataset': 'librakevin/wmt19-short',\n",
       " 'dataset_config_name': 'zh-en-50-small',\n",
       " 'batch_size': 16,\n",
       " 'd_model': 512,\n",
       " 'n_layers': 6,\n",
       " 'num_epochs': 3,\n",
       " 'validation_every_n_steps': 3000,\n",
       " 'validation_num_examples': 2,\n",
       " 'lr': 0.0001,\n",
       " 'preload': None,\n",
       " 'model_folder': 'weights',\n",
       " 'model_basename': 'tmodel_',\n",
       " 'tensorboard_log_dir': '/home/ubuntu/data/runs/tmodel'}"
      ]
     },
     "execution_count": 4,
     "metadata": {},
     "output_type": "execute_result"
    }
   ],
   "source": [
    "config"
   ]
  },
  {
   "cell_type": "code",
   "execution_count": null,
   "id": "b6995670",
   "metadata": {},
   "outputs": [
    {
     "name": "stdout",
     "output_type": "stream",
     "text": [
      "Using device cuda\n"
     ]
    },
    {
     "name": "stderr",
     "output_type": "stream",
     "text": [
      "Processing epoch 00:   0%|          | 0/6251 [00:01<?, ?it/s, loss=12.889]"
     ]
    },
    {
     "name": "stdout",
     "output_type": "stream",
     "text": [
      "--------------------------------------------------------------------------------\n",
      "SOURCE: Last week, the broadcast of period drama “Beauty Private Kitchen” was temporarily halted, and accidentally triggered heated debate about faked ratings of locally produced dramas.\n",
      "TARGET: 上周，古装剧《美人私房菜》临时停播，意外引发了关于国产剧收视率造假的热烈讨论。\n",
      "PREDICTED: [SOS]listing她她她literature中银SubaytiSubaytiSubaytiSubaytiSubaytiSubaytiSubaytiSubaytiSubaytiSubaytiSubaytiSubaytiSubaytiSubaytiSubaytiSubaytiSubaytiSubaytiSubaytiSubaytiSubaytiSubaytiSubaytiSubayti最近最近贝特森贝特森MowagMowag130C5854失血过多失血过多失血过多失血过多失血过多FondationFondation舟子舟子皱纹纸Jeanty警告MyDash\n"
     ]
    },
    {
     "name": "stderr",
     "output_type": "stream",
     "text": [
      "Processing epoch 00:   0%|          | 1/6251 [00:01<2:24:10,  1.38s/it, loss=12.863]"
     ]
    },
    {
     "name": "stdout",
     "output_type": "stream",
     "text": [
      "--------------------------------------------------------------------------------\n",
      "SOURCE: Civil rights group issues travel warning for Missouri\n",
      "TARGET: 民权团体针对密苏里州发出旅行警告\n",
      "PREDICTED: [SOS]listing她她她literature中银SubaytiSubaytiSubaytiSubaytiSubaytiSubaytiSubaytiSubaytiSubaytiSubaytiSubaytiSubaytiSubaytiSubaytiSubaytiSubaytiSubaytiSubaytiSubaytiSubaytiSubaytiSubaytiSubaytiSubayti最近最近贝特森贝特森MowagMowag130C5854失血过多失血过多失血过多失血过多失血过多FondationFondation舟子舟子皱纹纸Jeanty警告MyDash\n"
     ]
    },
    {
     "name": "stderr",
     "output_type": "stream",
     "text": [
      "Processing epoch 00:  48%|████▊     | 3000/6251 [10:49<11:44,  4.62it/s, loss=6.419]"
     ]
    },
    {
     "name": "stdout",
     "output_type": "stream",
     "text": [
      "--------------------------------------------------------------------------------\n",
      "SOURCE: Last week, the broadcast of period drama “Beauty Private Kitchen” was temporarily halted, and accidentally triggered heated debate about faked ratings of locally produced dramas.\n",
      "TARGET: 上周，古装剧《美人私房菜》临时停播，意外引发了关于国产剧收视率造假的热烈讨论。\n",
      "PREDICTED: [SOS]([UNK]，的[UNK]，.的[UNK]，.的[UNK]，.的[UNK]，.的人员制度问题[UNK]和[EOS]\n",
      "--------------------------------------------------------------------------------\n",
      "SOURCE: Civil rights group issues travel warning for Missouri\n",
      "TARGET: 民权团体针对密苏里州发出旅行警告\n"
     ]
    },
    {
     "name": "stderr",
     "output_type": "stream",
     "text": [
      "Processing epoch 00:  48%|████▊     | 3001/6251 [10:49<20:22,  2.66it/s, loss=6.662]"
     ]
    },
    {
     "name": "stdout",
     "output_type": "stream",
     "text": [
      "PREDICTED: [SOS]([UNK]，的[UNK]，.的[UNK]，.的[UNK]，.的[UNK]，.的人员制度问题[UNK]和[EOS]\n"
     ]
    },
    {
     "name": "stderr",
     "output_type": "stream",
     "text": [
      "Processing epoch 00:  96%|█████████▌| 6001/6251 [21:40<01:28,  2.82it/s, loss=6.354]"
     ]
    },
    {
     "name": "stdout",
     "output_type": "stream",
     "text": [
      "--------------------------------------------------------------------------------\n",
      "SOURCE: Last week, the broadcast of period drama “Beauty Private Kitchen” was temporarily halted, and accidentally triggered heated debate about faked ratings of locally produced dramas.\n",
      "TARGET: 上周，古装剧《美人私房菜》临时停播，意外引发了关于国产剧收视率造假的热烈讨论。\n",
      "PREDICTED: [SOS]([UNK]，的除，的[UNK]，.的[UNK]，.的[UNK]，.的[UNK]和[EOS]\n",
      "--------------------------------------------------------------------------------\n",
      "SOURCE: Civil rights group issues travel warning for Missouri\n",
      "TARGET: 民权团体针对密苏里州发出旅行警告\n",
      "PREDICTED: [SOS]([UNK]，的除，的[UNK]，.的[UNK]，.的[UNK]，.的[UNK]和[EOS]\n"
     ]
    },
    {
     "name": "stderr",
     "output_type": "stream",
     "text": [
      "Processing epoch 00: 100%|██████████| 6251/6251 [22:34<00:00,  4.61it/s, loss=6.677]\n"
     ]
    },
    {
     "name": "stdout",
     "output_type": "stream",
     "text": [
      "--------------------------------------------------------------------------------\n",
      "SOURCE: Last week, the broadcast of period drama “Beauty Private Kitchen” was temporarily halted, and accidentally triggered heated debate about faked ratings of locally produced dramas.\n",
      "TARGET: 上周，古装剧《美人私房菜》临时停播，意外引发了关于国产剧收视率造假的热烈讨论。\n",
      "PREDICTED: [SOS]([UNK]，的除，.的除，.的人员制度问题[UNK]，.的人员和[EOS]\n",
      "--------------------------------------------------------------------------------\n",
      "SOURCE: Civil rights group issues travel warning for Missouri\n",
      "TARGET: 民权团体针对密苏里州发出旅行警告\n",
      "PREDICTED: [SOS]([UNK]，的除，.的除，.的人员制度问题[UNK]，.的人员和[EOS]\n"
     ]
    },
    {
     "name": "stderr",
     "output_type": "stream",
     "text": [
      "Processing epoch 01:  14%|█▍        | 869/6251 [03:08<19:26,  4.61it/s, loss=6.214]"
     ]
    }
   ],
   "source": [
    "train.train_model(config)"
   ]
  }
 ],
 "metadata": {
  "kernelspec": {
   "display_name": "Python 3 (ipykernel)",
   "language": "python",
   "name": "python3"
  },
  "language_info": {
   "codemirror_mode": {
    "name": "ipython",
    "version": 3
   },
   "file_extension": ".py",
   "mimetype": "text/x-python",
   "name": "python",
   "nbconvert_exporter": "python",
   "pygments_lexer": "ipython3",
   "version": "3.10.12"
  }
 },
 "nbformat": 4,
 "nbformat_minor": 5
}
