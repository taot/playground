{
 "cells": [
  {
   "cell_type": "code",
   "execution_count": 18,
   "id": "f298fe48-9fa0-4997-9482-9cd202e0a93d",
   "metadata": {},
   "outputs": [],
   "source": [
    "import pyarrow.parquet as pq\n",
    "import pyarrow as pa\n",
    "import pandas as pd"
   ]
  },
  {
   "cell_type": "code",
   "execution_count": 2,
   "id": "7debb43d-d4b2-45c1-9e2d-c897323ce2b1",
   "metadata": {},
   "outputs": [],
   "source": [
    "table = pq.read_table('/home/taot/data/ml_data/my_projects/experiments/wmt19-small/zh-en/train-00000-of-00013.parquet')"
   ]
  },
  {
   "cell_type": "code",
   "execution_count": 5,
   "id": "1d2eddb8-acc4-4f79-afdd-51c032281d79",
   "metadata": {},
   "outputs": [
    {
     "data": {
      "text/plain": [
       "<pyarrow.StructScalar: [('en', '1929 or 1989?'), ('zh', '1929年还是1989年?')]>"
      ]
     },
     "execution_count": 5,
     "metadata": {},
     "output_type": "execute_result"
    }
   ],
   "source": [
    "table[\"translation\"][0]"
   ]
  },
  {
   "cell_type": "code",
   "execution_count": 6,
   "id": "e2479dfe-b39e-4e57-9604-a01e72104863",
   "metadata": {},
   "outputs": [],
   "source": [
    "df = table.to_pandas()"
   ]
  },
  {
   "cell_type": "code",
   "execution_count": 7,
   "id": "7f50fdd4-413e-4b08-85a4-73d998bc192e",
   "metadata": {},
   "outputs": [
    {
     "data": {
      "text/html": [
       "<div>\n",
       "<style scoped>\n",
       "    .dataframe tbody tr th:only-of-type {\n",
       "        vertical-align: middle;\n",
       "    }\n",
       "\n",
       "    .dataframe tbody tr th {\n",
       "        vertical-align: top;\n",
       "    }\n",
       "\n",
       "    .dataframe thead th {\n",
       "        text-align: right;\n",
       "    }\n",
       "</style>\n",
       "<table border=\"1\" class=\"dataframe\">\n",
       "  <thead>\n",
       "    <tr style=\"text-align: right;\">\n",
       "      <th></th>\n",
       "      <th>translation</th>\n",
       "    </tr>\n",
       "  </thead>\n",
       "  <tbody>\n",
       "    <tr>\n",
       "      <th>0</th>\n",
       "      <td>{'en': '1929 or 1989?', 'zh': '1929年还是1989年?'}</td>\n",
       "    </tr>\n",
       "    <tr>\n",
       "      <th>1</th>\n",
       "      <td>{'en': 'PARIS – As the economic crisis deepens...</td>\n",
       "    </tr>\n",
       "    <tr>\n",
       "      <th>2</th>\n",
       "      <td>{'en': 'At the start of the crisis, many peopl...</td>\n",
       "    </tr>\n",
       "    <tr>\n",
       "      <th>3</th>\n",
       "      <td>{'en': 'Today, the mood is much grimmer, with ...</td>\n",
       "    </tr>\n",
       "    <tr>\n",
       "      <th>4</th>\n",
       "      <td>{'en': 'The tendency is either excessive restr...</td>\n",
       "    </tr>\n",
       "    <tr>\n",
       "      <th>...</th>\n",
       "      <td>...</td>\n",
       "    </tr>\n",
       "    <tr>\n",
       "      <th>1998809</th>\n",
       "      <td>{'en': 'In this respect it was observed with c...</td>\n",
       "    </tr>\n",
       "    <tr>\n",
       "      <th>1998810</th>\n",
       "      <td>{'en': 'The view was expressed that all the re...</td>\n",
       "    </tr>\n",
       "    <tr>\n",
       "      <th>1998811</th>\n",
       "      <td>{'en': 'It was observed that the resource grow...</td>\n",
       "    </tr>\n",
       "    <tr>\n",
       "      <th>1998812</th>\n",
       "      <td>{'en': '245. Concern was expressed regarding t...</td>\n",
       "    </tr>\n",
       "    <tr>\n",
       "      <th>1998813</th>\n",
       "      <td>{'en': 'At the same time, it was observed that...</td>\n",
       "    </tr>\n",
       "  </tbody>\n",
       "</table>\n",
       "<p>1998814 rows × 1 columns</p>\n",
       "</div>"
      ],
      "text/plain": [
       "                                               translation\n",
       "0           {'en': '1929 or 1989?', 'zh': '1929年还是1989年?'}\n",
       "1        {'en': 'PARIS – As the economic crisis deepens...\n",
       "2        {'en': 'At the start of the crisis, many peopl...\n",
       "3        {'en': 'Today, the mood is much grimmer, with ...\n",
       "4        {'en': 'The tendency is either excessive restr...\n",
       "...                                                    ...\n",
       "1998809  {'en': 'In this respect it was observed with c...\n",
       "1998810  {'en': 'The view was expressed that all the re...\n",
       "1998811  {'en': 'It was observed that the resource grow...\n",
       "1998812  {'en': '245. Concern was expressed regarding t...\n",
       "1998813  {'en': 'At the same time, it was observed that...\n",
       "\n",
       "[1998814 rows x 1 columns]"
      ]
     },
     "execution_count": 7,
     "metadata": {},
     "output_type": "execute_result"
    }
   ],
   "source": [
    "df"
   ]
  },
  {
   "cell_type": "code",
   "execution_count": 17,
   "id": "dfd9e087-fc1f-49bf-a55c-b85048fc3954",
   "metadata": {},
   "outputs": [
    {
     "data": {
      "text/plain": [
       "{'en': '1929 or 1989?', 'zh': '1929年还是1989年?'}"
      ]
     },
     "execution_count": 17,
     "metadata": {},
     "output_type": "execute_result"
    }
   ],
   "source": [
    "df[\"translation\"][0]"
   ]
  },
  {
   "cell_type": "code",
   "execution_count": 8,
   "id": "662f90bc-73f3-49c8-a5eb-d2e4ff88d596",
   "metadata": {},
   "outputs": [],
   "source": [
    "df2 = df.copy()"
   ]
  },
  {
   "cell_type": "code",
   "execution_count": 13,
   "id": "bd6f7574-059a-48bb-b8f9-57737023acd5",
   "metadata": {},
   "outputs": [],
   "source": [
    "table2 = pa.Table.from_pandas(df2, preserve_index=False)"
   ]
  },
  {
   "cell_type": "code",
   "execution_count": 14,
   "id": "1726c4dc-00f8-4b28-9f04-7a72d263c256",
   "metadata": {},
   "outputs": [],
   "source": [
    "pq.write_table(table2, \"/home/taot/huggingface/wmt19-test/zh-en/validation-00000-of-00001.parquet\")"
   ]
  },
  {
   "cell_type": "code",
   "execution_count": 26,
   "id": "8f7cd7b9-8d43-468b-af08-72abbb0ad0b8",
   "metadata": {},
   "outputs": [
    {
     "name": "stdout",
     "output_type": "stream",
     "text": [
      "0: {'en': '1929 or 1989?', 'zh': '1929年还是1989年?'}, type = <class 'dict'>\n",
      "1: {'en': 'PARIS – As the economic crisis deepens and widens, the world has been searching for historical analogies to help us understand what has been happening.', 'zh': '巴黎-随着经济危机不断加深和蔓延，整个世界一直在寻找历史上的类似事件希望有助于我们了解目前正在发生的情况。'}, type = <class 'dict'>\n",
      "2: {'en': 'At the start of the crisis, many people likened it to 1982 or 1973, which was reassuring, because both dates refer to classical cyclical downturns.', 'zh': '一开始，很多人把这次危机比作1982年或1973年所发生的情况，这样得类比是令人宽心的，因为这两段时期意味着典型的周期性衰退。'}, type = <class 'dict'>\n",
      "3: {'en': 'Today, the mood is much grimmer, with references to 1929 and 1931 beginning to abound, even if some governments continue to behave as if the crisis was more classical than exceptional.', 'zh': '如今人们的心情却是沉重多了，许多人开始把这次危机与1929年和1931年相比，即使一些国家政府的表现仍然似乎把视目前的情况为是典型的而看见的衰退。'}, type = <class 'dict'>\n",
      "4: {'en': 'The tendency is either excessive restraint (Europe) or a diffusion of the effort (the United States).', 'zh': '目前的趋势是，要么是过度的克制（欧洲 ） ， 要么是努力的扩展（美国 ） 。'}, type = <class 'dict'>\n",
      "5: {'en': 'Europe is being cautious in the name of avoiding debt and defending the euro, whereas the US has moved on many fronts in order not to waste an ideal opportunity to implement badly needed structural reforms.', 'zh': '欧洲在避免债务和捍卫欧元的名义下正变得谨慎，而美国已经在许多方面行动起来，以利用这一理想的时机来实行急需的结构性改革。'}, type = <class 'dict'>\n",
      "6: {'en': 'For geo-strategists, however, the year that naturally comes to mind, in both politics and economics, is 1989.', 'zh': '然而，作为地域战略学家，无论是从政治意义还是从经济意义上，让我自然想到的年份是1989年。'}, type = <class 'dict'>\n",
      "7: {'en': 'Of course, the fall of the house of Lehman Brothers has nothing to do with the fall of the Berlin Wall.', 'zh': '当然，雷曼兄弟公司的倒闭和柏林墙的倒塌没有任何关系。'}, type = <class 'dict'>\n",
      "8: {'en': 'Indeed, on the surface it seems to be its perfect antithesis: the collapse of a wall symbolizing oppression and artificial divisions versus the collapse of a seemingly indestructible and reassuring institution of financial capitalism.', 'zh': '事实上，从表面上看，两者似乎是完全是相反的：一个是象征着压抑和人为分裂的柏林墙的倒塌，而另一个是看似坚不可摧的并令人安心的金融资本主义机构的倒塌。'}, type = <class 'dict'>\n",
      "9: {'en': 'Yet 2008-2009, like 1989, may very well correspond to an epochal change, whose unfolding consequences will be felt for decades.', 'zh': '然而，和1989年一样，2008-2009年很可能也能被视为一个划时代的改变，其带来的发人深省的后果将在几十年后仍能让我们感受得到。'}, type = <class 'dict'>\n",
      "10: {'en': 'The end of the East-West ideological divide and the end of absolute faith in markets are historical turning points.', 'zh': '东西方意识形态鸿沟的结束，以及对市场绝对信心的后果，都是历史的转折点。'}, type = <class 'dict'>\n"
     ]
    }
   ],
   "source": [
    "data3 = []\n",
    "count = 0\n",
    "for index, row in df.iterrows():\n",
    "    if count > 10:\n",
    "        break\n",
    "    print(f\"{index}: {row['translation']}, type = {type(row['translation'])}\")\n",
    "\n",
    "    data3.append(row[\"translation\"])\n",
    "    \n",
    "    count +=1"
   ]
  },
  {
   "cell_type": "code",
   "execution_count": 27,
   "id": "5c65060b-0049-4ada-bd33-e5abb6aa4dbf",
   "metadata": {},
   "outputs": [],
   "source": [
    "df3 = pd.DataFrame({\"translation\": data3})"
   ]
  },
  {
   "cell_type": "code",
   "execution_count": 30,
   "id": "e5824246-9014-412e-95bc-d6b24a77a05b",
   "metadata": {},
   "outputs": [],
   "source": [
    "table3 = pa.Table.from_pandas(df3, preserve_index=False)\n",
    "pq.write_table(table3, \"/home/taot/huggingface/wmt19-test/zh-en/validation-00000-of-00001.parquet\")"
   ]
  },
  {
   "cell_type": "code",
   "execution_count": 33,
   "id": "a646687a-e9b1-41ef-a3c1-fc3ee6294f9b",
   "metadata": {},
   "outputs": [
    {
     "data": {
      "text/plain": [
       "1998814"
      ]
     },
     "execution_count": 33,
     "metadata": {},
     "output_type": "execute_result"
    }
   ],
   "source": [
    "len(df2)"
   ]
  }
 ],
 "metadata": {
  "kernelspec": {
   "display_name": "Python 3 (ipykernel)",
   "language": "python",
   "name": "python3"
  },
  "language_info": {
   "codemirror_mode": {
    "name": "ipython",
    "version": 3
   },
   "file_extension": ".py",
   "mimetype": "text/x-python",
   "name": "python",
   "nbconvert_exporter": "python",
   "pygments_lexer": "ipython3",
   "version": "3.11.7"
  }
 },
 "nbformat": 4,
 "nbformat_minor": 5
}
